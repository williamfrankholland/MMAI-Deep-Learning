{
  "nbformat": 4,
  "nbformat_minor": 0,
  "metadata": {
    "colab": {
      "name": "Waste Classification KP v9.ipynb",
      "provenance": [],
      "collapsed_sections": [],
      "machine_shape": "hm"
    },
    "kernelspec": {
      "name": "python3",
      "display_name": "Python 3"
    },
    "language_info": {
      "name": "python"
    },
    "accelerator": "GPU"
  },
  "cells": [
    {
      "cell_type": "code",
      "execution_count": 1,
      "metadata": {
        "id": "nsziqhRh7lz-"
      },
      "outputs": [],
      "source": [
        "import pandas as pd\n",
        "import numpy as np\n",
        "import glob\n",
        "import PIL\n",
        "from PIL import Image\n",
        "\n",
        "from sklearn.datasets import fetch_openml\n",
        "from sklearn.model_selection import train_test_split\n",
        "from sklearn.preprocessing import MinMaxScaler\n",
        "from sklearn.metrics import confusion_matrix, classification_report\n",
        "\n",
        "import matplotlib.pyplot as plt\n",
        "\n",
        "import tensorflow as tf\n",
        "import tensorflow.keras as keras\n",
        "from tensorflow.keras.models import Sequential\n",
        "from tensorflow.keras.layers import Dense, Dropout, Conv2D, Conv3D, Flatten, MaxPooling2D, AveragePooling2D\n",
        "from tensorflow.keras.applications import DenseNet121, densenet\n",
        "from tensorflow.keras import Model\n",
        "from tensorflow.keras.backend import argmax\n"
      ]
    },
    {
      "cell_type": "code",
      "source": [
        "from google.colab import drive\n",
        "drive.mount('/content/gdrive')"
      ],
      "metadata": {
        "colab": {
          "base_uri": "https://localhost:8080/"
        },
        "id": "B4hTWEQsG2kD",
        "outputId": "3ecc49cb-c130-40c9-e564-537f10d80bf9"
      },
      "execution_count": 2,
      "outputs": [
        {
          "output_type": "stream",
          "name": "stdout",
          "text": [
            "Mounted at /content/gdrive\n"
          ]
        }
      ]
    },
    {
      "cell_type": "code",
      "source": [
        "imdir_train = '/content/gdrive/MyDrive/MMAI 894 Team Project/Train/'\n",
        "imdir_test = '/content/gdrive/MyDrive/MMAI 894 Team Project/Test/'\n",
        "img_size = (224, 224)\n",
        "\n",
        "#import train and validation images\n",
        "train_val_ds = tf.keras.preprocessing.image_dataset_from_directory(\n",
        "    imdir_train,\n",
        "    label_mode=\"int\",\n",
        "    subset=None,\n",
        "    seed=1337,\n",
        "    image_size=img_size,\n",
        "    batch_size=None,\n",
        "    shuffle=False\n",
        ")\n",
        "\n",
        "#import test images\n",
        "test_ds = tf.keras.preprocessing.image_dataset_from_directory(\n",
        "    imdir_test,\n",
        "    label_mode=\"int\",\n",
        "    subset=None,\n",
        "    seed=1337,\n",
        "    image_size=img_size,\n",
        "    batch_size=None,\n",
        "    shuffle=False\n",
        ")"
      ],
      "metadata": {
        "id": "Mjszs7Ct8eVm",
        "colab": {
          "base_uri": "https://localhost:8080/"
        },
        "outputId": "ae49fd88-22c1-4b4a-e0a4-95f265a651a0"
      },
      "execution_count": 3,
      "outputs": [
        {
          "output_type": "stream",
          "name": "stdout",
          "text": [
            "Found 8928 files belonging to 5 classes.\n",
            "Found 2031 files belonging to 5 classes.\n"
          ]
        }
      ]
    },
    {
      "cell_type": "code",
      "source": [
        "# Function to create a train and val split from a data set object\n",
        "def get_dataset_partitions_tf(ds, ds_size, train_split=0.625, val_split=0.375, shuffle=True, shuffle_size=10000, batch_size=32):\n",
        "    assert (train_split + val_split) == 1\n",
        "    \n",
        "    if shuffle:\n",
        "        # Specify seed to always have the same split distribution between runs\n",
        "        # Note must set reshuffle_each_iteration to False to avoid data leakage\n",
        "        ds = ds.shuffle(shuffle_size, seed=12, reshuffle_each_iteration = False)\n",
        "    \n",
        "    train_size = int(train_split * ds_size)\n",
        "    val_size = int(val_split * ds_size)\n",
        "    \n",
        "    train_ds = ds.take(train_size).batch(batch_size)\n",
        "    val_ds = ds.skip(train_size).take(val_size).batch(batch_size)\n",
        "    \n",
        "    return train_ds, val_ds"
      ],
      "metadata": {
        "id": "X2bALPBcK_BD"
      },
      "execution_count": 4,
      "outputs": []
    },
    {
      "cell_type": "code",
      "source": [
        "batch_size = 32\n",
        "\n",
        "# Get the data set size to calculate the right split\n",
        "# When batched this is the number of batches not item count\n",
        "batch_count = train_val_ds.cardinality().numpy()\n",
        "print(batch_count)\n",
        "\n",
        "# Split the data into three parts\n",
        "train_ds, val_ds = get_dataset_partitions_tf(train_val_ds, batch_count, train_split=0.625, \n",
        "                                                      val_split=0.375, shuffle=True, shuffle_size=10000, batch_size=batch_size)\n",
        "\n",
        "#set test_ds into batches\n",
        "test_ds = test_ds.batch(batch_size)\n",
        "\n",
        "# Check that the split worked\n",
        "print(train_ds.cardinality().numpy())\n",
        "print(val_ds.cardinality().numpy())\n",
        "print(test_ds.cardinality().numpy())"
      ],
      "metadata": {
        "colab": {
          "base_uri": "https://localhost:8080/"
        },
        "id": "xJgxKEmGOopY",
        "outputId": "e87f8781-a984-467a-84b1-d55b8569fbbd"
      },
      "execution_count": 5,
      "outputs": [
        {
          "output_type": "stream",
          "name": "stdout",
          "text": [
            "8928\n",
            "175\n",
            "105\n",
            "64\n"
          ]
        }
      ]
    },
    {
      "cell_type": "code",
      "source": [
        "def build_model():\n",
        "\n",
        "    #DenseNet121 model pre-trained on ImageNet, using AVG pooling at output, freeze training on first 150 layers\n",
        "    base_model = DenseNet121(include_top=False, weights='imagenet', pooling='avg', input_shape=(224, 224, 3))\n",
        "    for layer in base_model.layers[:149]:\n",
        "      layer.trainable = False\n",
        "    for layer in base_model.layers[149:]:\n",
        "      layer.trainable = True\n",
        "    \n",
        "    input_layer = keras.layers.Input([224,224,3])\n",
        "\n",
        "    #use keras' densenet preprocessing to prepare input for DenseNet121 model\n",
        "    pre_process = keras.applications.densenet.preprocess_input(input_layer)\n",
        "\n",
        "    x = base_model(pre_process)\n",
        "\n",
        "    #fully connected layer with 1024 neurons, 25% dropout\n",
        "    dense1 = Dense(1024, activation='relu')(x)\n",
        "    do1 = Dropout(0.25, seed=42)(dense1)\n",
        "\n",
        "    #fully connected layer with 1024 neurons, 25% dropout\n",
        "    dense2 = Dense(1024, activation='relu')(do1)\n",
        "    do2 = Dropout(0.25, seed=42)(dense2)\n",
        "    \n",
        "    #output layer wiht 5 categories\n",
        "    output_layer = Dense(5, activation='softmax', kernel_initializer=keras.initializers.GlorotNormal(seed=42))(do2)\n",
        "\n",
        "    model = Model(input_layer, output_layer)\n",
        "    model.summary()\n",
        "\n",
        "    return model\n",
        "\n",
        "def compile_model(model):\n",
        "\n",
        "    model.compile(\n",
        "       #use sparse catgorical crossentropy loss\n",
        "       loss=keras.losses.sparse_categorical_crossentropy,\n",
        "\n",
        "       #use Adam gradient descent optimizer, set learning rate to 5e-5\n",
        "       optimizer=keras.optimizers.Adam(learning_rate=5e-5),\n",
        "       \n",
        "       #use accuracy as a metric\n",
        "       metrics=['accuracy']\n",
        "    )\n",
        "\n",
        "    return model\n",
        "\n",
        "def train_model(model, train, val, epochs = 20):\n",
        "\n",
        "    #fit model with train data\n",
        "    history = model.fit(\n",
        "        train_ds,\n",
        "        \n",
        "        #use 32 batch size\n",
        "        batch_size = 32,\n",
        "        epochs = epochs,\n",
        "        \n",
        "        #verbose training, including validation data\n",
        "        verbose = 2,\n",
        "        validation_data = val_ds\n",
        "    )\n",
        "    return model, history\n",
        "\n",
        "\n",
        "def eval_model(model, test):\n",
        "\n",
        "    #evaluate model with test data\n",
        "    test_loss, test_accuracy = model.evaluate(\n",
        "        test,\n",
        "        verbose = 2\n",
        "    )\n",
        "\n",
        "    return test_loss, test_accuracy\n",
        "\n"
      ],
      "metadata": {
        "id": "mUiu9iyKoJSp"
      },
      "execution_count": 6,
      "outputs": []
    },
    {
      "cell_type": "code",
      "source": [
        "model = build_model()\n",
        "model = compile_model(model)\n",
        "model, history = train_model(model, train_ds, val_ds)\n",
        "test_loss, test_accuracy = eval_model(model, test_ds)"
      ],
      "metadata": {
        "id": "esjY_905rU0G",
        "colab": {
          "base_uri": "https://localhost:8080/"
        },
        "outputId": "93cf511a-dda3-46e1-9066-348590ef96de"
      },
      "execution_count": 7,
      "outputs": [
        {
          "output_type": "stream",
          "name": "stdout",
          "text": [
            "Downloading data from https://storage.googleapis.com/tensorflow/keras-applications/densenet/densenet121_weights_tf_dim_ordering_tf_kernels_notop.h5\n",
            "29089792/29084464 [==============================] - 0s 0us/step\n",
            "29097984/29084464 [==============================] - 0s 0us/step\n",
            "Model: \"model\"\n",
            "_________________________________________________________________\n",
            " Layer (type)                Output Shape              Param #   \n",
            "=================================================================\n",
            " input_2 (InputLayer)        [(None, 224, 224, 3)]     0         \n",
            "                                                                 \n",
            " tf.math.truediv (TFOpLambda  (None, 224, 224, 3)      0         \n",
            " )                                                               \n",
            "                                                                 \n",
            " tf.nn.bias_add (TFOpLambda)  (None, 224, 224, 3)      0         \n",
            "                                                                 \n",
            " tf.math.truediv_1 (TFOpLamb  (None, 224, 224, 3)      0         \n",
            " da)                                                             \n",
            "                                                                 \n",
            " densenet121 (Functional)    (None, 1024)              7037504   \n",
            "                                                                 \n",
            " dense (Dense)               (None, 1024)              1049600   \n",
            "                                                                 \n",
            " dropout (Dropout)           (None, 1024)              0         \n",
            "                                                                 \n",
            " dense_1 (Dense)             (None, 1024)              1049600   \n",
            "                                                                 \n",
            " dropout_1 (Dropout)         (None, 1024)              0         \n",
            "                                                                 \n",
            " dense_2 (Dense)             (None, 5)                 5125      \n",
            "                                                                 \n",
            "=================================================================\n",
            "Total params: 9,141,829\n",
            "Trainable params: 7,557,573\n",
            "Non-trainable params: 1,584,256\n",
            "_________________________________________________________________\n",
            "Epoch 1/20\n",
            "175/175 - 483s - loss: 0.5359 - accuracy: 0.8151 - val_loss: 0.2025 - val_accuracy: 0.9385 - 483s/epoch - 3s/step\n",
            "Epoch 2/20\n",
            "175/175 - 45s - loss: 0.1462 - accuracy: 0.9523 - val_loss: 0.1775 - val_accuracy: 0.9510 - 45s/epoch - 255ms/step\n",
            "Epoch 3/20\n",
            "175/175 - 45s - loss: 0.0407 - accuracy: 0.9889 - val_loss: 0.1992 - val_accuracy: 0.9513 - 45s/epoch - 256ms/step\n",
            "Epoch 4/20\n",
            "175/175 - 45s - loss: 0.0129 - accuracy: 0.9978 - val_loss: 0.2169 - val_accuracy: 0.9513 - 45s/epoch - 255ms/step\n",
            "Epoch 5/20\n",
            "175/175 - 45s - loss: 0.0063 - accuracy: 0.9989 - val_loss: 0.2340 - val_accuracy: 0.9507 - 45s/epoch - 255ms/step\n",
            "Epoch 6/20\n",
            "175/175 - 45s - loss: 0.0027 - accuracy: 0.9998 - val_loss: 0.2324 - val_accuracy: 0.9522 - 45s/epoch - 256ms/step\n",
            "Epoch 7/20\n",
            "175/175 - 45s - loss: 0.0013 - accuracy: 1.0000 - val_loss: 0.2406 - val_accuracy: 0.9549 - 45s/epoch - 256ms/step\n",
            "Epoch 8/20\n",
            "175/175 - 45s - loss: 7.7746e-04 - accuracy: 1.0000 - val_loss: 0.2484 - val_accuracy: 0.9522 - 45s/epoch - 255ms/step\n",
            "Epoch 9/20\n",
            "175/175 - 45s - loss: 4.6283e-04 - accuracy: 1.0000 - val_loss: 0.2546 - val_accuracy: 0.9534 - 45s/epoch - 255ms/step\n",
            "Epoch 10/20\n",
            "175/175 - 45s - loss: 3.8889e-04 - accuracy: 1.0000 - val_loss: 0.2622 - val_accuracy: 0.9537 - 45s/epoch - 257ms/step\n",
            "Epoch 11/20\n",
            "175/175 - 45s - loss: 2.8796e-04 - accuracy: 1.0000 - val_loss: 0.2648 - val_accuracy: 0.9546 - 45s/epoch - 255ms/step\n",
            "Epoch 12/20\n",
            "175/175 - 45s - loss: 2.4157e-04 - accuracy: 1.0000 - val_loss: 0.2695 - val_accuracy: 0.9546 - 45s/epoch - 256ms/step\n",
            "Epoch 13/20\n",
            "175/175 - 45s - loss: 1.8642e-04 - accuracy: 1.0000 - val_loss: 0.2751 - val_accuracy: 0.9549 - 45s/epoch - 255ms/step\n",
            "Epoch 14/20\n",
            "175/175 - 45s - loss: 1.9918e-04 - accuracy: 1.0000 - val_loss: 0.2813 - val_accuracy: 0.9534 - 45s/epoch - 255ms/step\n",
            "Epoch 15/20\n",
            "175/175 - 45s - loss: 1.1833e-04 - accuracy: 1.0000 - val_loss: 0.2857 - val_accuracy: 0.9540 - 45s/epoch - 255ms/step\n",
            "Epoch 16/20\n",
            "175/175 - 45s - loss: 1.1479e-04 - accuracy: 1.0000 - val_loss: 0.2890 - val_accuracy: 0.9543 - 45s/epoch - 256ms/step\n",
            "Epoch 17/20\n",
            "175/175 - 45s - loss: 9.5080e-05 - accuracy: 1.0000 - val_loss: 0.2930 - val_accuracy: 0.9546 - 45s/epoch - 256ms/step\n",
            "Epoch 18/20\n",
            "175/175 - 45s - loss: 8.4924e-05 - accuracy: 1.0000 - val_loss: 0.2992 - val_accuracy: 0.9549 - 45s/epoch - 255ms/step\n",
            "Epoch 19/20\n",
            "175/175 - 45s - loss: 6.5374e-05 - accuracy: 1.0000 - val_loss: 0.3016 - val_accuracy: 0.9546 - 45s/epoch - 256ms/step\n",
            "Epoch 20/20\n",
            "175/175 - 45s - loss: 6.3284e-05 - accuracy: 1.0000 - val_loss: 0.3065 - val_accuracy: 0.9537 - 45s/epoch - 255ms/step\n",
            "64/64 - 105s - loss: 0.2679 - accuracy: 0.9606 - 105s/epoch - 2s/step\n"
          ]
        }
      ]
    },
    {
      "cell_type": "code",
      "source": [
        "print('Test Accuracy:',test_accuracy)"
      ],
      "metadata": {
        "colab": {
          "base_uri": "https://localhost:8080/"
        },
        "id": "lTP6juK2LP8F",
        "outputId": "e323865e-786f-475f-b05a-e2df7089834f"
      },
      "execution_count": 8,
      "outputs": [
        {
          "output_type": "stream",
          "name": "stdout",
          "text": [
            "Test Accuracy: 0.9606105089187622\n"
          ]
        }
      ]
    },
    {
      "cell_type": "code",
      "source": [
        "# Extract the labels from the test data set\n",
        "Y_test_class = tf.concat([labels for images, labels in test_ds], axis=0)"
      ],
      "metadata": {
        "id": "YHsd-CSD2PQR"
      },
      "execution_count": 9,
      "outputs": []
    },
    {
      "cell_type": "code",
      "source": [
        "# Pass the test set directly to the predict function\n",
        "Y_pred_class = argmax(model.predict(test_ds))"
      ],
      "metadata": {
        "id": "IgcEXXL30ika"
      },
      "execution_count": 10,
      "outputs": []
    },
    {
      "cell_type": "code",
      "source": [
        "# Import libraries for EDA\n",
        "\n",
        "import seaborn as sb\n",
        "import matplotlib.pyplot as plt\n",
        "import matplotlib.image as mpimg\n",
        "\n",
        "# Setting default fig size\n",
        "size_ = (10,8)"
      ],
      "metadata": {
        "id": "tXxP5sclF9EP"
      },
      "execution_count": 11,
      "outputs": []
    },
    {
      "cell_type": "code",
      "source": [
        "# Generate Confusion Matrix for the 5 Classes\n",
        "cm=confusion_matrix(Y_test_class,Y_pred_class)\n",
        "df_cm = pd.DataFrame(cm, range(cm.shape[0]), range(cm.shape[1]))\n",
        "df_cm.columns = train_val_ds.class_names\n",
        "df_cm.index = train_val_ds.class_names\n",
        "\n",
        "fig = plt.subplots(figsize=size_)\n",
        "sb.set(font_scale=1)\n",
        "sb.heatmap(df_cm, annot=True, annot_kws={\"size\": 10}, cmap=\"Blues\") # font size\n",
        "plt.show()"
      ],
      "metadata": {
        "id": "j8x3zU3rJYCD",
        "colab": {
          "base_uri": "https://localhost:8080/",
          "height": 483
        },
        "outputId": "0c2ddee4-9652-45c0-ac95-8931b239bd8f"
      },
      "execution_count": 12,
      "outputs": [
        {
          "output_type": "display_data",
          "data": {
            "text/plain": [
              "<Figure size 720x576 with 2 Axes>"
            ],
            "image/png": "[encoded data removed]"
          },
          "metadata": {
            "needs_background": "light"
          }
        }
      ]
    },
    {
      "cell_type": "code",
      "source": [
        "# Generate Classification Report for the 5 Classes\n",
        "print(classification_report(Y_test_class,Y_pred_class))"
      ],
      "metadata": {
        "colab": {
          "base_uri": "https://localhost:8080/"
        },
        "id": "-RRmDuKCIbQE",
        "outputId": "88d06780-3642-4cac-f90c-100402ec735a"
      },
      "execution_count": 13,
      "outputs": [
        {
          "output_type": "stream",
          "name": "stdout",
          "text": [
            "              precision    recall  f1-score   support\n",
            "\n",
            "           0       0.91      0.85      0.88       274\n",
            "           1       0.97      0.97      0.97       841\n",
            "           2       0.96      0.99      0.97       532\n",
            "           3       0.97      0.97      0.97       208\n",
            "           4       0.97      0.98      0.97       176\n",
            "\n",
            "    accuracy                           0.96      2031\n",
            "   macro avg       0.96      0.95      0.95      2031\n",
            "weighted avg       0.96      0.96      0.96      2031\n",
            "\n"
          ]
        }
      ]
    },
    {
      "cell_type": "code",
      "source": [
        "#narrow down to only recyclable and non-recyclable bins\n",
        "#0 = non-recyclable\n",
        "#1 = recycleable\n",
        "def recycle_classify(labels):\n",
        "  y = np.copy(labels)\n",
        "  waste_index = [0,1,0,0,0]\n",
        "  for i in range(5):\n",
        "    y = np.where(y == i, waste_index[i], y)\n",
        "  return y"
      ],
      "metadata": {
        "id": "MAKjHi2E_SCX"
      },
      "execution_count": 14,
      "outputs": []
    },
    {
      "cell_type": "code",
      "source": [
        "Y_recycle_class_pred = recycle_classify(Y_pred_class)\n",
        "Y_recycle_class_test = recycle_classify(Y_test_class)"
      ],
      "metadata": {
        "id": "B4H-9gvkLmHQ"
      },
      "execution_count": 15,
      "outputs": []
    },
    {
      "cell_type": "code",
      "source": [
        "# Generate Confusion Matrix for Recycleable vs. Non-Recyclable\n",
        "\n",
        "cm=confusion_matrix(Y_recycle_class_test,Y_recycle_class_pred)\n",
        "df_cm = pd.DataFrame(cm, range(cm.shape[0]), range(cm.shape[1]))\n",
        "df_cm.columns = ['non-recyclable','recyclable']\n",
        "df_cm.index = ['non-recyclable','recyclable']\n",
        "\n",
        "fig = plt.subplots(figsize=size_)\n",
        "sb.set(font_scale=1)\n",
        "sb.heatmap(df_cm, annot=True, annot_kws={\"size\": 10}, cmap=\"Blues\") # font size\n",
        "plt.show()"
      ],
      "metadata": {
        "colab": {
          "base_uri": "https://localhost:8080/",
          "height": 484
        },
        "id": "9tJiMTcpLvcM",
        "outputId": "9ecc33b9-eda6-4803-d2eb-ffa05e29a5d1"
      },
      "execution_count": 16,
      "outputs": [
        {
          "output_type": "display_data",
          "data": {
            "text/plain": [
              "<Figure size 720x576 with 2 Axes>"
            ],
            "image/png": "[encoded data removed]"
          },
          "metadata": {}
        }
      ]
    },
    {
      "cell_type": "code",
      "source": [
        "# Generate Classification Report for Recycleable vs. Non-Recyclable\n",
        "\n",
        "print(classification_report(Y_recycle_class_test,Y_recycle_class_pred))"
      ],
      "metadata": {
        "colab": {
          "base_uri": "https://localhost:8080/"
        },
        "id": "zoquIhVRLxIs",
        "outputId": "8a375cb3-4a44-4042-8031-f15f34addada"
      },
      "execution_count": 17,
      "outputs": [
        {
          "output_type": "stream",
          "name": "stdout",
          "text": [
            "              precision    recall  f1-score   support\n",
            "\n",
            "           0       0.98      0.98      0.98      1190\n",
            "           1       0.97      0.97      0.97       841\n",
            "\n",
            "    accuracy                           0.98      2031\n",
            "   macro avg       0.98      0.98      0.98      2031\n",
            "weighted avg       0.98      0.98      0.98      2031\n",
            "\n"
          ]
        }
      ]
    },
    {
      "cell_type": "code",
      "source": [
        ""
      ],
      "metadata": {
        "id": "hu7eLhTbLzuy"
      },
      "execution_count": 17,
      "outputs": []
    }
  ]
}