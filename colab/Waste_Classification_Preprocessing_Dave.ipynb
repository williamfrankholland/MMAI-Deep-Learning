{
  "nbformat": 4,
  "nbformat_minor": 0,
  "metadata": {
    "colab": {
      "name": "Waste Classification - Preprocessing_Dave.ipynb",
      "provenance": [],
      "collapsed_sections": [],
      "machine_shape": "hm"
    },
    "kernelspec": {
      "name": "python3",
      "display_name": "Python 3"
    },
    "language_info": {
      "name": "python"
    }
  },
  "cells": [
    {
      "cell_type": "code",
      "execution_count": 1,
      "metadata": {
        "id": "nsziqhRh7lz-"
      },
      "outputs": [],
      "source": [
        "import pandas as pd\n",
        "import numpy as np\n",
        "import glob\n",
        "import PIL\n",
        "from PIL import Image\n",
        "\n",
        "from sklearn.model_selection import train_test_split\n",
        "from keras.preprocessing.image import ImageDataGenerator, array_to_img, img_to_array, load_img\n",
        "\n",
        "import shutil\n",
        "import os"
      ]
    },
    {
      "cell_type": "code",
      "source": [
        "from google.colab import drive\n",
        "drive.mount('/content/gdrive')"
      ],
      "metadata": {
        "id": "B4hTWEQsG2kD",
        "colab": {
          "base_uri": "https://localhost:8080/"
        },
        "outputId": "f4ceed9e-b03a-43f3-e766-61ae44b94cff"
      },
      "execution_count": 2,
      "outputs": [
        {
          "output_type": "stream",
          "name": "stdout",
          "text": [
            "Mounted at /content/gdrive\n"
          ]
        }
      ]
    },
    {
      "cell_type": "code",
      "source": [
        "#define the root and target folders\n",
        "read_dir = '/content/gdrive/MyDrive/MMAI 894 Team Project/data_final/'\n",
        "write_dir = '/content/gdrive/MyDrive/MMAI 894 Team Project/'\n",
        "test_dir = 'Test/'\n",
        "train_dir = 'Train/'\n",
        "#define the data split \n",
        "test_split = 0.2\n",
        "aug_split = 0.1 \n",
        "#Number of images to generate when total number is ABOVE the cut off\n",
        "small_num_gen = 1\n",
        "#Number of images to generate when total number is BELOW the cut off\n",
        "big_num_gen = 3\n",
        "#Cut off of number of images after the Aug_split \n",
        "img_cutoff = 20\n",
        "    "
      ],
      "metadata": {
        "id": "hIKDYq2ZSYzS"
      },
      "execution_count": 3,
      "outputs": []
    },
    {
      "cell_type": "code",
      "source": [
        "def retrieve_data(rootdir):\n",
        "    fld_lst = []\n",
        "    for it in os.scandir(rootdir):\n",
        "        if it.is_dir():\n",
        "            pth = it.path\n",
        "            pth = pth.replace(rootdir, '') + '/'\n",
        "            fld_lst.append(pth)\n",
        "    \n",
        "    df_list = []\n",
        "\n",
        "    for i in range(len(fld_lst)):\n",
        "          files = []\n",
        "          files.extend(glob.glob(rootdir + fld_lst[i] + '*'))\n",
        "          df_list.append(pd.DataFrame(pd.Series(files), columns=['img_path']))\n",
        "          df_list[i]['folder'] = fld_lst[i]\n",
        "   \n",
        "    #concatonate all image types into one df\n",
        "    df = pd.concat(df_list)\n",
        "\n",
        "    #reset indices after concatonation\n",
        "    df = df.reset_index(drop=True)\n",
        "\n",
        "    return df\n",
        "\n",
        "#df = retrieve_data()"
      ],
      "metadata": {
        "id": "4Xq9aWjmlX95"
      },
      "execution_count": 4,
      "outputs": []
    },
    {
      "cell_type": "code",
      "source": [
        "def split_data(img_list, split_per):\n",
        "  \n",
        "    #split into 80% train, 20% test\n",
        "    X_train, X_test = train_test_split(img_list, test_size=split_per)\n",
        "    \n",
        "    return X_train, X_test"
      ],
      "metadata": {
        "id": "WjmFKnYy5-2y"
      },
      "execution_count": 5,
      "outputs": []
    },
    {
      "cell_type": "code",
      "source": [
        "def setup_folders(rootdir, folders, fold_type):\n",
        "    path = rootdir + fold_type\n",
        "    # delete the folders before adding images.\n",
        "    shutil.rmtree(path)\n",
        "    #create the new folders\n",
        "    os.mkdir(path)\n",
        "    fld_lst = folders['folder'].unique()\n",
        "    #create all of the subfolders\n",
        "    for i in fld_lst:\n",
        "      os.mkdir(path + i)"
      ],
      "metadata": {
        "id": "i6meTiOSCcR4"
      },
      "execution_count": 6,
      "outputs": []
    },
    {
      "cell_type": "code",
      "source": [
        "#Put a copy of the images in each directory based on the split\n",
        "def write_to_file(rootdir, img_list, fold_type):\n",
        "    img_list = img_list.reset_index(drop=True)\n",
        "    dest_fldr = rootdir + fold_type\n",
        "  \n",
        "    for i in range(len(img_list)):\n",
        "      shutil.copy2(img_list['img_path'][i], dest_fldr + img_list['folder'][i])\n",
        "      if (i/1000).is_integer():\n",
        "        print(str(i) + \" images copied of \" + str(len(img_list)) + \" for \" + fold_type)"
      ],
      "metadata": {
        "id": "iCQmn2vvxce0"
      },
      "execution_count": 7,
      "outputs": []
    },
    {
      "cell_type": "code",
      "source": [
        "#Generate images for the 10% of the training set\n",
        "def generate_data(rootdir, img_set):\n",
        "    datagen = ImageDataGenerator(\n",
        "            width_shift_range=0.1,\n",
        "            height_shift_range=0.1,\n",
        "            brightness_range=[0.9,1.1],\n",
        "            zoom_range=0.1,\n",
        "            horizontal_flip=True,\n",
        "            vertical_flip=True,\n",
        "            fill_mode='reflect')\n",
        "    \n",
        "    img_set = img_set.reset_index(drop=True)\n",
        "    #Add the list of folders to the list and the total count of images in the folder.\n",
        "    Aug_img_count = img_set.groupby('folder').count()\n",
        "    Aug_img_count = Aug_img_count.rename(columns={\"img_path\": \"img_count\"})\n",
        "    img_set = img_set.merge(Aug_img_count, on=\"folder\")\n",
        "    num_imgs = 0\n",
        "    #Loop through the list of images to generate\n",
        "    for c in range(len(img_set)):\n",
        "        pic_count = Aug_set.groupby('folder').count()\n",
        "        img = np.asarray(Image.open(img_set['img_path'][c]))\n",
        "        x = img_to_array(img) \n",
        "        x = x.reshape((1,) + x.shape) \n",
        "        \n",
        "        # the .flow() command below generates batches of randomly transformed images\n",
        "        # and saves the results to the `preview/` directory\n",
        " \n",
        "        if img_set['img_count'][c] > img_cutoff:\n",
        "          num_imgs = small_num_gen - 1\n",
        "        else:\n",
        "          num_imgs = big_num_gen - 1\n",
        "        i = 0\n",
        "        for batch in datagen.flow(x, batch_size=1,\n",
        "                                  save_to_dir=rootdir + train_dir + img_set['folder'][c], save_prefix='generated_', save_format='jpeg'):\n",
        "            i += 1\n",
        "            if i > num_imgs:\n",
        "                break  # otherwise the generator would loop indefinitely\n",
        "\n",
        "#generate_data(Aug_set)"
      ],
      "metadata": {
        "id": "CYmx7Pjts6PZ"
      },
      "execution_count": 8,
      "outputs": []
    },
    {
      "cell_type": "code",
      "source": [
        "df = retrieve_data(read_dir)\n",
        "Train_set, Test_set = split_data(df, test_split)\n",
        "setup_folders(write_dir, Train_set, train_dir)\n",
        "setup_folders(write_dir, Test_set, test_dir)\n",
        "write_to_file(write_dir, Train_set, train_dir)\n",
        "write_to_file(write_dir, Test_set, test_dir)\n",
        "Train_set, Aug_set = split_data(Train_set, aug_split)\n",
        "generate_data(write_dir, Aug_set)"
      ],
      "metadata": {
        "id": "esjY_905rU0G",
        "colab": {
          "base_uri": "https://localhost:8080/"
        },
        "outputId": "55dea349-20a9-474a-d500-95eced5221ff"
      },
      "execution_count": 9,
      "outputs": [
        {
          "output_type": "stream",
          "name": "stdout",
          "text": [
            "0 images copied of 8116 for Train_Images/\n",
            "1000 images copied of 8116 for Train_Images/\n",
            "2000 images copied of 8116 for Train_Images/\n",
            "3000 images copied of 8116 for Train_Images/\n",
            "4000 images copied of 8116 for Train_Images/\n",
            "5000 images copied of 8116 for Train_Images/\n",
            "6000 images copied of 8116 for Train_Images/\n",
            "7000 images copied of 8116 for Train_Images/\n",
            "8000 images copied of 8116 for Train_Images/\n",
            "0 images copied of 2029 for Test_Images/\n",
            "1000 images copied of 2029 for Test_Images/\n",
            "2000 images copied of 2029 for Test_Images/\n"
          ]
        }
      ]
    },
    {
      "cell_type": "code",
      "source": [
        ""
      ],
      "metadata": {
        "id": "cfvtRZ3OZ-5N"
      },
      "execution_count": 9,
      "outputs": []
    }
  ]
}