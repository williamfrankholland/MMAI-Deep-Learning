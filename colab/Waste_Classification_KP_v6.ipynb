{
  "nbformat": 4,
  "nbformat_minor": 0,
  "metadata": {
    "colab": {
      "name": "Waste Classification KP v6.ipynb",
      "provenance": [],
      "collapsed_sections": [],
      "machine_shape": "hm"
    },
    "kernelspec": {
      "name": "python3",
      "display_name": "Python 3"
    },
    "language_info": {
      "name": "python"
    },
    "accelerator": "GPU"
  },
  "cells": [
    {
      "cell_type": "code",
      "execution_count": null,
      "metadata": {
        "id": "nsziqhRh7lz-"
      },
      "outputs": [],
      "source": [
        "import pandas as pd\n",
        "import numpy as np\n",
        "import glob\n",
        "import PIL\n",
        "from PIL import Image\n",
        "\n",
        "from sklearn.datasets import fetch_openml\n",
        "from sklearn.model_selection import train_test_split\n",
        "from sklearn.preprocessing import MinMaxScaler\n",
        "\n",
        "import matplotlib.pyplot as plt\n",
        "\n",
        "import tensorflow as tf\n",
        "import tensorflow.keras as keras\n",
        "from tensorflow.keras.models import Sequential\n",
        "from tensorflow.keras.layers import Dense, Dropout, Conv2D, Conv3D, Flatten, MaxPooling2D, AveragePooling2D\n",
        "from tensorflow.keras.applications import DenseNet121, densenet\n",
        "from tensorflow.keras import Model"
      ]
    },
    {
      "cell_type": "code",
      "source": [
        "from google.colab import drive\n",
        "drive.mount('/content/gdrive')"
      ],
      "metadata": {
        "colab": {
          "base_uri": "https://localhost:8080/"
        },
        "id": "B4hTWEQsG2kD",
        "outputId": "6ac1cbf8-1835-4ec2-9437-0efd689c320f"
      },
      "execution_count": null,
      "outputs": [
        {
          "output_type": "stream",
          "name": "stdout",
          "text": [
            "Drive already mounted at /content/gdrive; to attempt to forcibly remount, call drive.mount(\"/content/gdrive\", force_remount=True).\n"
          ]
        }
      ]
    },
    {
      "cell_type": "code",
      "source": [
        "imdir = '/content/gdrive/MyDrive/MMAI 894 Team Project/data_final/'\n",
        "df_list = []\n",
        "img_size = (224, 224)\n",
        "\n",
        "total_ds = tf.keras.preprocessing.image_dataset_from_directory(\n",
        "    imdir,\n",
        "    #label_mode=\"categorical\",\n",
        "    label_mode=\"int\",\n",
        "    #validation_split=0.2,\n",
        "    subset=None,\n",
        "    seed=1337,\n",
        "    image_size=img_size,\n",
        "    #batch_size=batch_size,\n",
        "    batch_size=None,\n",
        "    shuffle=False\n",
        ")"
      ],
      "metadata": {
        "id": "Mjszs7Ct8eVm",
        "colab": {
          "base_uri": "https://localhost:8080/"
        },
        "outputId": "52ad073f-06bd-4cbb-b57d-bc2a848c8a0a"
      },
      "execution_count": null,
      "outputs": [
        {
          "output_type": "stream",
          "name": "stdout",
          "text": [
            "Found 10157 files belonging to 5 classes.\n"
          ]
        }
      ]
    },
    {
      "cell_type": "code",
      "source": [
        "# Function to create a train, val, test split from a data set object\n",
        "def get_dataset_partitions_tf(ds, ds_size, train_split=0.5, val_split=0.3, test_split=0.2, shuffle=True, shuffle_size=10000, batch_size=32):\n",
        "    assert (train_split + test_split + val_split) == 1\n",
        "    \n",
        "    if shuffle:\n",
        "        # Specify seed to always have the same split distribution between runs\n",
        "        # Note must set reshuffle_each_iteration to False to avoid data leakage\n",
        "        ds = ds.shuffle(shuffle_size, seed=12, reshuffle_each_iteration = False)\n",
        "    \n",
        "    train_size = int(train_split * ds_size)\n",
        "    val_size = int(val_split * ds_size)\n",
        "    \n",
        "    train_ds = ds.take(train_size).batch(batch_size)\n",
        "    val_ds = ds.skip(train_size).take(val_size).batch(batch_size)\n",
        "    test_ds = ds.skip(train_size).skip(val_size).batch(batch_size)\n",
        "    \n",
        "    return train_ds, val_ds, test_ds"
      ],
      "metadata": {
        "id": "X2bALPBcK_BD"
      },
      "execution_count": null,
      "outputs": []
    },
    {
      "cell_type": "code",
      "source": [
        "batch_size = 32\n",
        "\n",
        "# Get the data set size to calculate the right split\n",
        "# When batched this is the number of batches not item count\n",
        "batch_count = total_ds.cardinality().numpy()\n",
        "print(batch_count)\n",
        "\n",
        "# Split the data into three parts\n",
        "train_ds, val_ds, test_ds = get_dataset_partitions_tf(total_ds, batch_count, train_split=0.5, \n",
        "                                                      val_split=0.3, test_split=0.2, shuffle=True, shuffle_size=10000, batch_size=batch_size)\n",
        "\n",
        "# Check that the split worked\n",
        "print(train_ds.cardinality().numpy())\n",
        "print(val_ds.cardinality().numpy())\n",
        "print(test_ds.cardinality().numpy())"
      ],
      "metadata": {
        "colab": {
          "base_uri": "https://localhost:8080/"
        },
        "id": "xJgxKEmGOopY",
        "outputId": "9f4c01a9-85cc-4c61-c0e8-8ef086a40815"
      },
      "execution_count": null,
      "outputs": [
        {
          "output_type": "stream",
          "name": "stdout",
          "text": [
            "10157\n",
            "159\n",
            "96\n",
            "64\n"
          ]
        }
      ]
    },
    {
      "cell_type": "code",
      "source": [
        "def build_model():\n",
        "\n",
        "    #DenseNet121 model pre-trained on ImageNet, using MAX pooling at output, freeze training on all layers\n",
        "    base_model = DenseNet121(include_top=False, weights='imagenet', pooling='avg', input_shape=(224, 224, 3))\n",
        "    for layer in base_model.layers[:149]:\n",
        "      layer.trainable = False\n",
        "    for layer in base_model.layers[149:]:\n",
        "      layer.trainable = True\n",
        "    \n",
        "    input_layer = keras.layers.Input([224,224,3])\n",
        "    pre_process = keras.applications.densenet.preprocess_input(input_layer)\n",
        "\n",
        "    x = base_model(pre_process)\n",
        "    dense1 = Dense(1024, activation='relu')(x)\n",
        "    do1 = Dropout(0.25, seed=42)(dense1)\n",
        "\n",
        "    dense2 = Dense(1024, activation='relu')(do1)\n",
        "    do2 = Dropout(0.25, seed=42)(dense2)\n",
        "    \n",
        "    output_layer = Dense(5, activation='softmax', kernel_initializer=keras.initializers.GlorotNormal(seed=42))(do2)\n",
        "\n",
        "    model = Model(input_layer, output_layer)\n",
        "    model.summary()\n",
        "\n",
        "    return model\n",
        "\n",
        "def compile_model(model):\n",
        "\n",
        "    model.compile(\n",
        "       #use catgorical crossentropy loss\n",
        "       loss=keras.losses.sparse_categorical_crossentropy,\n",
        "\n",
        "       #use Adam gradient descent optimizer\n",
        "       optimizer=keras.optimizers.Adam(learning_rate=5e-5),\n",
        "       \n",
        "       #use accuracy as a metric\n",
        "       metrics=['accuracy']\n",
        "    )\n",
        "\n",
        "    return model\n",
        "\n",
        "def train_model(model, train, val, epochs = 20):\n",
        "\n",
        "    #fit model with train data\n",
        "    history = model.fit(\n",
        "        train_ds,\n",
        "        \n",
        "        #use 128 batch size, 12 epochs\n",
        "        batch_size = 32,\n",
        "        epochs = epochs,\n",
        "        \n",
        "        #verbose training, including validation data\n",
        "        verbose = 2,\n",
        "        validation_data = val_ds\n",
        "    )\n",
        "    return model, history\n",
        "\n",
        "\n",
        "def eval_model(model, test):\n",
        "\n",
        "    #evaluate model with test data\n",
        "    test_loss, test_accuracy = model.evaluate(\n",
        "        test,\n",
        "        verbose = 2\n",
        "    )\n",
        "\n",
        "    return test_loss, test_accuracy\n",
        "\n"
      ],
      "metadata": {
        "id": "mUiu9iyKoJSp"
      },
      "execution_count": null,
      "outputs": []
    },
    {
      "cell_type": "code",
      "source": [
        "model = build_model()\n",
        "model = compile_model(model)\n",
        "model, history = train_model(model, train_ds, val_ds)\n",
        "test_loss, test_accuracy = eval_model(model, test_ds)"
      ],
      "metadata": {
        "id": "esjY_905rU0G",
        "colab": {
          "base_uri": "https://localhost:8080/"
        },
        "outputId": "ce20ed38-5768-4f60-b55c-f98b31227774"
      },
      "execution_count": null,
      "outputs": [
        {
          "output_type": "stream",
          "name": "stdout",
          "text": [
            "Model: \"model\"\n",
            "_________________________________________________________________\n",
            " Layer (type)                Output Shape              Param #   \n",
            "=================================================================\n",
            " input_2 (InputLayer)        [(None, 224, 224, 3)]     0         \n",
            "                                                                 \n",
            " tf.math.truediv (TFOpLambda  (None, 224, 224, 3)      0         \n",
            " )                                                               \n",
            "                                                                 \n",
            " tf.nn.bias_add (TFOpLambda)  (None, 224, 224, 3)      0         \n",
            "                                                                 \n",
            " tf.math.truediv_1 (TFOpLamb  (None, 224, 224, 3)      0         \n",
            " da)                                                             \n",
            "                                                                 \n",
            " densenet121 (Functional)    (None, 1024)              7037504   \n",
            "                                                                 \n",
            " dense (Dense)               (None, 1024)              1049600   \n",
            "                                                                 \n",
            " dropout (Dropout)           (None, 1024)              0         \n",
            "                                                                 \n",
            " dense_1 (Dense)             (None, 1024)              1049600   \n",
            "                                                                 \n",
            " dropout_1 (Dropout)         (None, 1024)              0         \n",
            "                                                                 \n",
            " dense_2 (Dense)             (None, 5)                 5125      \n",
            "                                                                 \n",
            "=================================================================\n",
            "Total params: 9,141,829\n",
            "Trainable params: 7,557,573\n",
            "Non-trainable params: 1,584,256\n",
            "_________________________________________________________________\n",
            "Epoch 1/20\n",
            "159/159 - 572s - loss: 0.5275 - accuracy: 0.8157 - val_loss: 0.1980 - val_accuracy: 0.9445 - 572s/epoch - 4s/step\n",
            "Epoch 2/20\n",
            "159/159 - 44s - loss: 0.1435 - accuracy: 0.9571 - val_loss: 0.1782 - val_accuracy: 0.9518 - 44s/epoch - 275ms/step\n",
            "Epoch 3/20\n",
            "159/159 - 44s - loss: 0.0488 - accuracy: 0.9864 - val_loss: 0.1846 - val_accuracy: 0.9573 - 44s/epoch - 275ms/step\n",
            "Epoch 4/20\n",
            "159/159 - 44s - loss: 0.0122 - accuracy: 0.9986 - val_loss: 0.1922 - val_accuracy: 0.9583 - 44s/epoch - 277ms/step\n",
            "Epoch 5/20\n",
            "159/159 - 44s - loss: 0.0041 - accuracy: 1.0000 - val_loss: 0.2020 - val_accuracy: 0.9590 - 44s/epoch - 277ms/step\n",
            "Epoch 6/20\n",
            "159/159 - 44s - loss: 0.0020 - accuracy: 1.0000 - val_loss: 0.2067 - val_accuracy: 0.9573 - 44s/epoch - 278ms/step\n",
            "Epoch 7/20\n",
            "159/159 - 44s - loss: 0.0012 - accuracy: 1.0000 - val_loss: 0.2184 - val_accuracy: 0.9577 - 44s/epoch - 276ms/step\n",
            "Epoch 8/20\n",
            "159/159 - 44s - loss: 8.6673e-04 - accuracy: 1.0000 - val_loss: 0.2259 - val_accuracy: 0.9573 - 44s/epoch - 276ms/step\n",
            "Epoch 9/20\n",
            "159/159 - 44s - loss: 5.5931e-04 - accuracy: 1.0000 - val_loss: 0.2320 - val_accuracy: 0.9560 - 44s/epoch - 276ms/step\n",
            "Epoch 10/20\n",
            "159/159 - 44s - loss: 4.5002e-04 - accuracy: 1.0000 - val_loss: 0.2385 - val_accuracy: 0.9577 - 44s/epoch - 276ms/step\n",
            "Epoch 11/20\n",
            "159/159 - 44s - loss: 3.5484e-04 - accuracy: 1.0000 - val_loss: 0.2466 - val_accuracy: 0.9580 - 44s/epoch - 277ms/step\n",
            "Epoch 12/20\n",
            "159/159 - 44s - loss: 2.8031e-04 - accuracy: 1.0000 - val_loss: 0.2492 - val_accuracy: 0.9567 - 44s/epoch - 276ms/step\n",
            "Epoch 13/20\n",
            "159/159 - 44s - loss: 2.2909e-04 - accuracy: 1.0000 - val_loss: 0.2562 - val_accuracy: 0.9573 - 44s/epoch - 276ms/step\n",
            "Epoch 14/20\n",
            "159/159 - 44s - loss: 1.7348e-04 - accuracy: 1.0000 - val_loss: 0.2617 - val_accuracy: 0.9570 - 44s/epoch - 276ms/step\n",
            "Epoch 15/20\n",
            "159/159 - 44s - loss: 1.5118e-04 - accuracy: 1.0000 - val_loss: 0.2686 - val_accuracy: 0.9573 - 44s/epoch - 277ms/step\n",
            "Epoch 16/20\n",
            "159/159 - 44s - loss: 1.2507e-04 - accuracy: 1.0000 - val_loss: 0.2694 - val_accuracy: 0.9573 - 44s/epoch - 276ms/step\n",
            "Epoch 17/20\n",
            "159/159 - 44s - loss: 8.6372e-05 - accuracy: 1.0000 - val_loss: 0.2753 - val_accuracy: 0.9586 - 44s/epoch - 275ms/step\n",
            "Epoch 18/20\n",
            "159/159 - 44s - loss: 7.5966e-05 - accuracy: 1.0000 - val_loss: 0.2782 - val_accuracy: 0.9590 - 44s/epoch - 278ms/step\n",
            "Epoch 19/20\n",
            "159/159 - 44s - loss: 7.6511e-05 - accuracy: 1.0000 - val_loss: 0.2830 - val_accuracy: 0.9577 - 44s/epoch - 276ms/step\n",
            "Epoch 20/20\n",
            "159/159 - 44s - loss: 6.2678e-05 - accuracy: 1.0000 - val_loss: 0.2848 - val_accuracy: 0.9577 - 44s/epoch - 276ms/step\n",
            "64/64 - 15s - loss: 0.2754 - accuracy: 0.9567 - 15s/epoch - 238ms/step\n"
          ]
        }
      ]
    },
    {
      "cell_type": "code",
      "source": [
        "#Test Accuracy is 95.97%"
      ],
      "metadata": {
        "id": "iVNNWW10q-_f"
      },
      "execution_count": null,
      "outputs": []
    },
    {
      "cell_type": "code",
      "source": [
        "# Extract the labels from the test data set\n",
        "Y_test_class = tf.concat([labels for images, labels in test_ds], axis=0)"
      ],
      "metadata": {
        "id": "YHsd-CSD2PQR"
      },
      "execution_count": null,
      "outputs": []
    },
    {
      "cell_type": "code",
      "source": [
        "from tensorflow.keras.backend import argmax\n",
        "\n",
        "# Pass the test set directly to the predict function\n",
        "Y_pred_class = argmax(model.predict(test_ds))"
      ],
      "metadata": {
        "id": "IgcEXXL30ika"
      },
      "execution_count": null,
      "outputs": []
    },
    {
      "cell_type": "code",
      "source": [
        "# Import libraries for EDA\n",
        "\n",
        "import seaborn as sb\n",
        "import matplotlib.pyplot as plt\n",
        "import matplotlib.image as mpimg\n",
        "\n",
        "# Setting default fig size\n",
        "size_ = (10,8)"
      ],
      "metadata": {
        "id": "tXxP5sclF9EP"
      },
      "execution_count": null,
      "outputs": []
    },
    {
      "cell_type": "code",
      "source": [
        "from sklearn.metrics import confusion_matrix\n",
        "\n",
        "cm=confusion_matrix(Y_test_class,Y_pred_class)\n",
        "df_cm = pd.DataFrame(cm, range(cm.shape[0]), range(cm.shape[1]))\n",
        "df_cm.columns = total_ds.class_names\n",
        "df_cm.index = total_ds.class_names\n",
        "\n",
        "fig = plt.subplots(figsize=size_)\n",
        "sb.set(font_scale=1)\n",
        "sb.heatmap(df_cm, annot=True, annot_kws={\"size\": 10}, cmap=\"Blues\") # font size\n",
        "plt.show()"
      ],
      "metadata": {
        "id": "j8x3zU3rJYCD",
        "colab": {
          "base_uri": "https://localhost:8080/",
          "height": 483
        },
        "outputId": "d6dc3550-3754-4a80-e5c1-c8fe678f4c28"
      },
      "execution_count": null,
      "outputs": [
        {
          "output_type": "display_data",
          "data": {
            "text/plain": [
              "<Figure size 720x576 with 2 Axes>"
            ],
            "image/png": "[encoded data removed]"
          },
          "metadata": {
            "needs_background": "light"
          }
        }
      ]
    },
    {
      "cell_type": "code",
      "source": [
        "from sklearn.metrics import classification_report\n",
        "\n",
        "print(classification_report(Y_test_class,Y_pred_class))"
      ],
      "metadata": {
        "colab": {
          "base_uri": "https://localhost:8080/"
        },
        "id": "-RRmDuKCIbQE",
        "outputId": "9c7379bc-d07c-43a8-9194-4b44b3af78a4"
      },
      "execution_count": null,
      "outputs": [
        {
          "output_type": "stream",
          "name": "stdout",
          "text": [
            "              precision    recall  f1-score   support\n",
            "\n",
            "           0       0.88      0.85      0.86       288\n",
            "           1       0.97      0.98      0.97       780\n",
            "           2       0.97      0.96      0.97       572\n",
            "           3       0.97      0.99      0.98       191\n",
            "           4       0.98      0.97      0.97       201\n",
            "\n",
            "    accuracy                           0.96      2032\n",
            "   macro avg       0.95      0.95      0.95      2032\n",
            "weighted avg       0.96      0.96      0.96      2032\n",
            "\n"
          ]
        }
      ]
    },
    {
      "cell_type": "code",
      "source": [
        "#narrow down to only recyclable and non-recyclable bins\n",
        "#0 = non-recyclable\n",
        "#1 = recycleable\n",
        "def recycle_classify(labels):\n",
        "  y = np.copy(labels)\n",
        "  waste_index = [0,1,0,0,0]\n",
        "  for i in range(5):\n",
        "    y = np.where(y == i, waste_index[i], y)\n",
        "  return y"
      ],
      "metadata": {
        "id": "MAKjHi2E_SCX"
      },
      "execution_count": null,
      "outputs": []
    },
    {
      "cell_type": "code",
      "source": [
        "Y_recycle_class_pred = recycle_classify(Y_pred_class)\n",
        "Y_recycle_class_test = recycle_classify(Y_test_class)"
      ],
      "metadata": {
        "id": "B4H-9gvkLmHQ"
      },
      "execution_count": null,
      "outputs": []
    },
    {
      "cell_type": "code",
      "source": [
        "cm=confusion_matrix(Y_recycle_class_test,Y_recycle_class_pred)\n",
        "df_cm = pd.DataFrame(cm, range(cm.shape[0]), range(cm.shape[1]))\n",
        "df_cm.columns = ['non-recyclable','recyclable']\n",
        "df_cm.index = ['non-recyclable','recyclable']\n",
        "\n",
        "fig = plt.subplots(figsize=size_)\n",
        "sb.set(font_scale=1)\n",
        "sb.heatmap(df_cm, annot=True, annot_kws={\"size\": 10}, cmap=\"Blues\") # font size\n",
        "plt.show()"
      ],
      "metadata": {
        "colab": {
          "base_uri": "https://localhost:8080/",
          "height": 484
        },
        "id": "9tJiMTcpLvcM",
        "outputId": "3bdecf6a-6430-463e-de69-40c350bb5b91"
      },
      "execution_count": null,
      "outputs": [
        {
          "output_type": "display_data",
          "data": {
            "text/plain": [
              "<Figure size 720x576 with 2 Axes>"
            ],
            "image/png": "[encoded data removed]"
          },
          "metadata": {}
        }
      ]
    },
    {
      "cell_type": "code",
      "source": [
        "print(classification_report(Y_recycle_class_test,Y_recycle_class_pred))"
      ],
      "metadata": {
        "colab": {
          "base_uri": "https://localhost:8080/"
        },
        "id": "zoquIhVRLxIs",
        "outputId": "461c8f1e-322c-415c-9f3c-996adfe11e43"
      },
      "execution_count": null,
      "outputs": [
        {
          "output_type": "stream",
          "name": "stdout",
          "text": [
            "              precision    recall  f1-score   support\n",
            "\n",
            "           0       0.99      0.98      0.98      1252\n",
            "           1       0.97      0.98      0.97       780\n",
            "\n",
            "    accuracy                           0.98      2032\n",
            "   macro avg       0.98      0.98      0.98      2032\n",
            "weighted avg       0.98      0.98      0.98      2032\n",
            "\n"
          ]
        }
      ]
    },
    {
      "cell_type": "code",
      "source": [
        ""
      ],
      "metadata": {
        "id": "hu7eLhTbLzuy"
      },
      "execution_count": null,
      "outputs": []
    }
  ]
}