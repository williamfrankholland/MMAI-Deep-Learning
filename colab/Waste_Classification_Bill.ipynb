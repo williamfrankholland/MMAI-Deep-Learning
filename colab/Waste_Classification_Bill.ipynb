{
  "nbformat": 4,
  "nbformat_minor": 0,
  "metadata": {
    "colab": {
      "name": "Waste Classification Bill.ipynb",
      "provenance": [],
      "collapsed_sections": [],
      "machine_shape": "hm",
      "include_colab_link": true
    },
    "kernelspec": {
      "name": "python3",
      "display_name": "Python 3"
    },
    "language_info": {
      "name": "python"
    },
    "accelerator": "GPU"
  },
  "cells": [
    {
      "cell_type": "markdown",
      "metadata": {
        "id": "view-in-github",
        "colab_type": "text"
      },
      "source": [
        "<a href=\"https://colab.research.google.com/github/williamfrankholland/MMAI-Deep-Learning/blob/main/colab/Waste_Classification_Bill.ipynb\" target=\"_parent\"><img src=\"https://colab.research.google.com/assets/colab-badge.svg\" alt=\"Open In Colab\"/></a>"
      ]
    },
    {
      "cell_type": "code",
      "execution_count": null,
      "metadata": {
        "id": "nsziqhRh7lz-"
      },
      "outputs": [],
      "source": [
        "#!pip install focal-loss\n",
        "\n",
        "import pandas as pd\n",
        "import numpy as np\n",
        "import glob\n",
        "import PIL\n",
        "from PIL import Image\n",
        "\n",
        "from sklearn.datasets import fetch_openml\n",
        "from sklearn.model_selection import train_test_split\n",
        "from sklearn.preprocessing import MinMaxScaler\n",
        "\n",
        "import matplotlib.pyplot as plt\n",
        "\n",
        "import tensorflow as tf\n",
        "import tensorflow.keras as keras\n",
        "from tensorflow.keras.models import Sequential\n",
        "from tensorflow.keras.layers import Dense, Dropout, Conv2D, Conv3D, Flatten, MaxPooling2D, AveragePooling2D\n",
        "\n",
        "from sklearn.utils import shuffle\n",
        "\n",
        "\n",
        "#from focal_loss import SparseCategoricalFocalLoss\n",
        "\n",
        "SHAPE_SIZE = 256\n"
      ]
    },
    {
      "cell_type": "code",
      "source": [
        "from google.colab import drive\n",
        "drive.mount('/content/gdrive')"
      ],
      "metadata": {
        "colab": {
          "base_uri": "https://localhost:8080/"
        },
        "id": "B4hTWEQsG2kD",
        "outputId": "6d644621-97da-4b87-9f27-22c963238e67"
      },
      "execution_count": null,
      "outputs": [
        {
          "output_type": "stream",
          "name": "stdout",
          "text": [
            "Mounted at /content/gdrive\n"
          ]
        }
      ]
    },
    {
      "cell_type": "code",
      "source": [
        "imdir = '/content/gdrive/MyDrive/MMAI 894 Team Project/data_clean/'\n",
        "image_classes = ['battery/','biological/','brown-glass/','cardboard_recycle/','clothes_donate/','clothes_garbage/','green_glass_recycle/','metal_recycle/','paper_recycle/','plastic_recycle/','shoes/','trash/','white-glass/']\n",
        "\n",
        "df_list = []\n",
        "\n",
        "#import images from every folder\n",
        "for i in range(len(image_classes)):\n",
        "    files = []\n",
        "    files.extend(glob.glob(imdir + image_classes[i] + '*'))\n",
        "    images = [np.asarray(Image.open(file).resize((SHAPE_SIZE,SHAPE_SIZE))) for file in files]\n",
        "    df_list.append(pd.DataFrame(pd.Series(images), columns=['tensor']))\n",
        "    \n",
        "    #add label for every folder\n",
        "    df_list[i]['label'] = i"
      ],
      "metadata": {
        "id": "Mjszs7Ct8eVm"
      },
      "execution_count": null,
      "outputs": []
    },
    {
      "cell_type": "code",
      "source": [
        "#concatonate all image types into one df\n",
        "df = pd.concat(df_list)"
      ],
      "metadata": {
        "id": "wUOpEnXZmFJ-"
      },
      "execution_count": null,
      "outputs": []
    },
    {
      "cell_type": "code",
      "source": [
        "#reset indices after concatonation\n",
        "df = df.reset_index(drop=True)"
      ],
      "metadata": {
        "id": "hjLHJkCfmUhY"
      },
      "execution_count": null,
      "outputs": []
    },
    {
      "cell_type": "code",
      "source": [
        "df.tail()"
      ],
      "metadata": {
        "id": "0xDHd_51m5D0",
        "colab": {
          "base_uri": "https://localhost:8080/",
          "height": 206
        },
        "outputId": "2a6b9be7-84ec-40cb-db90-c03fac3674f6"
      },
      "execution_count": null,
      "outputs": [
        {
          "output_type": "execute_result",
          "data": {
            "text/html": [
              "\n",
              "  <div id=\"df-b37661a7-2615-4fe3-bd33-5f4db39abb91\">\n",
              "    <div class=\"colab-df-container\">\n",
              "      <div>\n",
              "<style scoped>\n",
              "    .dataframe tbody tr th:only-of-type {\n",
              "        vertical-align: middle;\n",
              "    }\n",
              "\n",
              "    .dataframe tbody tr th {\n",
              "        vertical-align: top;\n",
              "    }\n",
              "\n",
              "    .dataframe thead th {\n",
              "        text-align: right;\n",
              "    }\n",
              "</style>\n",
              "<table border=\"1\" class=\"dataframe\">\n",
              "  <thead>\n",
              "    <tr style=\"text-align: right;\">\n",
              "      <th></th>\n",
              "      <th>tensor</th>\n",
              "      <th>label</th>\n",
              "    </tr>\n",
              "  </thead>\n",
              "  <tbody>\n",
              "    <tr>\n",
              "      <th>9879</th>\n",
              "      <td>[[[209, 197, 185], [209, 197, 185], [209, 197,...</td>\n",
              "      <td>12</td>\n",
              "    </tr>\n",
              "    <tr>\n",
              "      <th>9880</th>\n",
              "      <td>[[[215, 217, 230], [215, 217, 230], [215, 217,...</td>\n",
              "      <td>12</td>\n",
              "    </tr>\n",
              "    <tr>\n",
              "      <th>9881</th>\n",
              "      <td>[[[218, 220, 233], [218, 220, 233], [216, 218,...</td>\n",
              "      <td>12</td>\n",
              "    </tr>\n",
              "    <tr>\n",
              "      <th>9882</th>\n",
              "      <td>[[[227, 217, 207], [227, 217, 207], [227, 217,...</td>\n",
              "      <td>12</td>\n",
              "    </tr>\n",
              "    <tr>\n",
              "      <th>9883</th>\n",
              "      <td>[[[233, 219, 210], [233, 219, 210], [231, 217,...</td>\n",
              "      <td>12</td>\n",
              "    </tr>\n",
              "  </tbody>\n",
              "</table>\n",
              "</div>\n",
              "      <button class=\"colab-df-convert\" onclick=\"convertToInteractive('df-b37661a7-2615-4fe3-bd33-5f4db39abb91')\"\n",
              "              title=\"Convert this dataframe to an interactive table.\"\n",
              "              style=\"display:none;\">\n",
              "        \n",
              "  <svg xmlns=\"http://www.w3.org/2000/svg\" height=\"24px\"viewBox=\"0 0 24 24\"\n",
              "       width=\"24px\">\n",
              "    <path d=\"M0 0h24v24H0V0z\" fill=\"none\"/>\n",
              "    <path d=\"M18.56 5.44l.94 2.06.94-2.06 2.06-.94-2.06-.94-.94-2.06-.94 2.06-2.06.94zm-11 1L8.5 8.5l.94-2.06 2.06-.94-2.06-.94L8.5 2.5l-.94 2.06-2.06.94zm10 10l.94 2.06.94-2.06 2.06-.94-2.06-.94-.94-2.06-.94 2.06-2.06.94z\"/><path d=\"M17.41 7.96l-1.37-1.37c-.4-.4-.92-.59-1.43-.59-.52 0-1.04.2-1.43.59L10.3 9.45l-7.72 7.72c-.78.78-.78 2.05 0 2.83L4 21.41c.39.39.9.59 1.41.59.51 0 1.02-.2 1.41-.59l7.78-7.78 2.81-2.81c.8-.78.8-2.07 0-2.86zM5.41 20L4 18.59l7.72-7.72 1.47 1.35L5.41 20z\"/>\n",
              "  </svg>\n",
              "      </button>\n",
              "      \n",
              "  <style>\n",
              "    .colab-df-container {\n",
              "      display:flex;\n",
              "      flex-wrap:wrap;\n",
              "      gap: 12px;\n",
              "    }\n",
              "\n",
              "    .colab-df-convert {\n",
              "      background-color: #E8F0FE;\n",
              "      border: none;\n",
              "      border-radius: 50%;\n",
              "      cursor: pointer;\n",
              "      display: none;\n",
              "      fill: #1967D2;\n",
              "      height: 32px;\n",
              "      padding: 0 0 0 0;\n",
              "      width: 32px;\n",
              "    }\n",
              "\n",
              "    .colab-df-convert:hover {\n",
              "      background-color: #E2EBFA;\n",
              "      box-shadow: 0px 1px 2px rgba(60, 64, 67, 0.3), 0px 1px 3px 1px rgba(60, 64, 67, 0.15);\n",
              "      fill: #174EA6;\n",
              "    }\n",
              "\n",
              "    [theme=dark] .colab-df-convert {\n",
              "      background-color: #3B4455;\n",
              "      fill: #D2E3FC;\n",
              "    }\n",
              "\n",
              "    [theme=dark] .colab-df-convert:hover {\n",
              "      background-color: #434B5C;\n",
              "      box-shadow: 0px 1px 3px 1px rgba(0, 0, 0, 0.15);\n",
              "      filter: drop-shadow(0px 1px 2px rgba(0, 0, 0, 0.3));\n",
              "      fill: #FFFFFF;\n",
              "    }\n",
              "  </style>\n",
              "\n",
              "      <script>\n",
              "        const buttonEl =\n",
              "          document.querySelector('#df-b37661a7-2615-4fe3-bd33-5f4db39abb91 button.colab-df-convert');\n",
              "        buttonEl.style.display =\n",
              "          google.colab.kernel.accessAllowed ? 'block' : 'none';\n",
              "\n",
              "        async function convertToInteractive(key) {\n",
              "          const element = document.querySelector('#df-b37661a7-2615-4fe3-bd33-5f4db39abb91');\n",
              "          const dataTable =\n",
              "            await google.colab.kernel.invokeFunction('convertToInteractive',\n",
              "                                                     [key], {});\n",
              "          if (!dataTable) return;\n",
              "\n",
              "          const docLinkHtml = 'Like what you see? Visit the ' +\n",
              "            '<a target=\"_blank\" href=https://colab.research.google.com/notebooks/data_table.ipynb>data table notebook</a>'\n",
              "            + ' to learn more about interactive tables.';\n",
              "          element.innerHTML = '';\n",
              "          dataTable['output_type'] = 'display_data';\n",
              "          await google.colab.output.renderOutput(dataTable, element);\n",
              "          const docLink = document.createElement('div');\n",
              "          docLink.innerHTML = docLinkHtml;\n",
              "          element.appendChild(docLink);\n",
              "        }\n",
              "      </script>\n",
              "    </div>\n",
              "  </div>\n",
              "  "
            ],
            "text/plain": [
              "                                                 tensor  label\n",
              "9879  [[[209, 197, 185], [209, 197, 185], [209, 197,...     12\n",
              "9880  [[[215, 217, 230], [215, 217, 230], [215, 217,...     12\n",
              "9881  [[[218, 220, 233], [218, 220, 233], [216, 218,...     12\n",
              "9882  [[[227, 217, 207], [227, 217, 207], [227, 217,...     12\n",
              "9883  [[[233, 219, 210], [233, 219, 210], [231, 217,...     12"
            ]
          },
          "metadata": {},
          "execution_count": 6
        }
      ]
    },
    {
      "cell_type": "code",
      "source": [
        "#import raw X and Y data from concatonated df\n",
        "shuffle(df)\n",
        "raw_X = df['tensor']\n",
        "raw_Y = df['label']"
      ],
      "metadata": {
        "id": "OkN_jZARm6iT"
      },
      "execution_count": null,
      "outputs": []
    },
    {
      "cell_type": "code",
      "source": [
        "#del df, df_list\n",
        "#del files\n",
        "#el images"
      ],
      "metadata": {
        "id": "GvPuT-4FVUWl"
      },
      "execution_count": null,
      "outputs": []
    },
    {
      "cell_type": "code",
      "source": [
        "def clean_data(raw_X, raw_Y):\n",
        "\n",
        "    cleaned_X = raw_X.to_list()\n",
        "    cleaned_Y = raw_Y.to_list()\n",
        "\n",
        "    #remove any images that don't contain shape (SHAPE_SIZE, SHAPE_SIZE, 3)\n",
        "    clean_list = []\n",
        "    for i in range(len(cleaned_X)):\n",
        "      if cleaned_X[i].shape != (SHAPE_SIZE, SHAPE_SIZE, 3):\n",
        "        clean_list.append(i)\n",
        "    \n",
        "    for i in sorted(clean_list, reverse=True):\n",
        "      cleaned_X.pop(i)\n",
        "      cleaned_Y.pop(i)\n",
        "    \n",
        "    #one hot encode labels\n",
        "    cleaned_Y = keras.utils.to_categorical(cleaned_Y)\n",
        "    cleaned_X = np.array(cleaned_X)\n",
        "    cleaned_Y = np.array(cleaned_Y)\n",
        "\n",
        "    return cleaned_X, cleaned_Y\n",
        "\n",
        "cleaned_X, cleaned_Y = clean_data(raw_X, raw_Y)"
      ],
      "metadata": {
        "id": "boEBF0LPniX1"
      },
      "execution_count": null,
      "outputs": []
    },
    {
      "cell_type": "code",
      "source": [
        "#check for any images without shape (320, 320, 3)\n",
        "for i in range(len(cleaned_X)):\n",
        "  if cleaned_X[i].shape != (SHAPE_SIZE, SHAPE_SIZE, 3):\n",
        "    print(cleaned_X[i].shape)\n",
        "    print(i)"
      ],
      "metadata": {
        "id": "ek84oa1kvSJB"
      },
      "execution_count": null,
      "outputs": []
    },
    {
      "cell_type": "code",
      "source": [
        "def split_data(cleaned_X, cleaned_Y):\n",
        "  \n",
        "    #split into 50% train, 20% validation, 30% test\n",
        "    X_train, X_valtest, Y_train, Y_valtest = train_test_split(cleaned_X, cleaned_Y, test_size=0.5, random_state=42)\n",
        "    X_val, X_test, Y_val, Y_test = train_test_split(X_valtest, Y_valtest, test_size=0.6, random_state=42)\n",
        "    \n",
        "    return X_val, X_test, X_train, Y_val, Y_test, Y_train\n",
        "\n",
        "X_val, X_test, X_train, Y_val, Y_test, Y_train = split_data(cleaned_X, cleaned_Y)"
      ],
      "metadata": {
        "id": "Ikuj2x70oCtn"
      },
      "execution_count": null,
      "outputs": []
    },
    {
      "cell_type": "code",
      "source": [
        "def build_model():\n",
        "\n",
        "    model = keras.Sequential()\n",
        "    \n",
        "    #define input shape\n",
        "    model.add(keras.Input(shape=(SHAPE_SIZE,SHAPE_SIZE,3)))\n",
        "\n",
        "    #model.add(keras.layers.Resizing(\n",
        "    #SHAPE_SIZE, SHAPE_SIZE, interpolation=\"bilinear\", crop_to_aspect_ratio=True)\n",
        "\n",
        "    # Scale to -1 to 1 \n",
        "    model.add(keras.layers.Rescaling(scale=1.0/127.5, offset=-1.0))\n",
        "    #model.add(keras.layers.Rescaling(scale=1.0/255))\n",
        "\n",
        "    model.add(keras.layers.RandomTranslation( height_factor=(-0.15, 0.15), width_factor=(-0.15, 0.15)))\n",
        "    \n",
        "    #Conv2+ReLU: [5x5, 32]\n",
        "    model.add(keras.layers.Conv2D(filters=32, kernel_size=(5, 5), activation=\"relu\", name=\"Conv2d-1\", padding='same'))\n",
        "\n",
        "    model.add(keras.layers.BatchNormalization())\n",
        "    model.add(keras.layers.Activation(\"relu\"))\n",
        "\n",
        "    #MaxPooling: [4x4] strides=2\n",
        "    model.add(keras.layers.MaxPooling2D(pool_size=(3, 3), name=\"Pool-1\", padding=\"same\"))\n",
        "\n",
        "    #Conv2+ReLU: [3x3, 64]\n",
        "    model.add(keras.layers.Conv2D(filters=64, kernel_size=(3, 3), activation=\"relu\", name=\"Conv2d-2\", padding='same'))\n",
        "\n",
        "    #model.add(keras.layers.BatchNormalization())\n",
        "    #model.add(keras.layers.Activation(\"relu\"))\n",
        "\n",
        "    #MaxPooling: [4x4]\n",
        "    model.add(keras.layers.MaxPooling2D(pool_size=(4, 4), name=\"Pool-2\", padding=\"same\"))\n",
        "\n",
        "    #Conv2+ReLU: [3x3, 128]\n",
        "    model.add(keras.layers.Conv2D(filters=256, kernel_size=(3, 3), activation=\"relu\", name=\"Conv2d-3\", padding='same'))\n",
        "\n",
        "    #model.add(keras.layers.BatchNormalization())\n",
        "    #model.add(keras.layers.Activation(\"relu\"))\n",
        "\n",
        "    #MaxPooling: [4x4]\n",
        "    model.add(keras.layers.MaxPooling2D(pool_size=(4, 4), name=\"Pool-3\", padding=\"same\"))\n",
        "\n",
        "    #Conv2+ReLU: [3x3, 128]\n",
        "    #model.add(keras.layers.SeparableConv2D(filters=512, kernel_size=(3, 3), activation=\"relu\", name=\"Conv2d-4\", padding='same'))\n",
        "\n",
        "    #MaxPooling: [4x4]\n",
        "    #model.add(keras.layers.MaxPooling2D(pool_size=(2, 2), padding=\"same\", name=\"Pool-4\"))\n",
        "    \n",
        "    # Flatten out the images before we pass to the dense layers\n",
        "    model.add(keras.layers.Flatten())\n",
        "\n",
        "    # 128 neurons\n",
        "    model.add(keras.layers.Dense(512, activation=\"relu\", name=\"Denselayer1\"))\n",
        "    # Drop rate = 25%\n",
        "    model.add(keras.layers.Dropout(rate=0.25, name=\"drop_1_25\"))\n",
        "\n",
        "    # Use 64 neurons to narrow data size\n",
        "    model.add(keras.layers.Dense(256, activation=\"relu\", name=\"Denselayer2\"))\n",
        "    # Drop rate = 25%\n",
        "    model.add(keras.layers.Dropout(rate=0.25, name=\"drop_2_25\"))\n",
        "\n",
        "    # Define weight initializer with a random seed to ensure reproducibility\n",
        "    weight_initializer = keras.initializers.GlorotNormal(seed=42)\n",
        "\n",
        "    #output layer for 13 classes, using softmax activation\n",
        "    model.add(Dense(13, \n",
        "                    activation='softmax',\n",
        "                    kernel_initializer=weight_initializer,  \n",
        "                    kernel_constraint=None,\n",
        "                    )\n",
        "    )\n",
        "    \n",
        "    return model\n",
        "\n",
        "def compile_model(model):\n",
        "\n",
        "    model.compile(\n",
        "       #use catgorical crossentropy loss\n",
        "       loss=keras.losses.categorical_crossentropy,\n",
        "       #loss=SparseCategoricalFocalLoss(gamma=2),\n",
        "\n",
        "       #use Adam gradient descent optimizer\n",
        "       optimizer=keras.optimizers.Adam(1e-3),\n",
        "       \n",
        "       #use accuracy as a metric\n",
        "       metrics=['accuracy']\n",
        "    )\n",
        "\n",
        "    return model\n",
        "\n",
        "def train_model(model, X_train, Y_train, X_val, Y_val):\n",
        "\n",
        "    my_class_weight = {\n",
        "            0: 12.0,\n",
        "            1: 11.0,\n",
        "            2: 19.0,\n",
        "            3: 12.0,\n",
        "            4: 9.0,\n",
        "            5: 100.0,\n",
        "            6: 19.0,\n",
        "            7: 16.0,\n",
        "            8: 14.0,\n",
        "            9: 19.0,\n",
        "            10: 6.0,\n",
        "            11: 18.0,\n",
        "            12: 16.0,\n",
        "            }\n",
        "\n",
        "    #fit model with train data\n",
        "    history = model.fit(\n",
        "        x = X_train,\n",
        "        y = Y_train,\n",
        "        \n",
        "        #use 128 batch size, 12 epochs\n",
        "        batch_size = 128,\n",
        "        epochs = 20,\n",
        "        \n",
        "        #class_weight=my_class_weight,\n",
        "\n",
        "        #verbose training, including validation data\n",
        "        verbose = 2,\n",
        "        validation_data = (X_val, Y_val)\n",
        "    )\n",
        "    return model, history\n",
        "\n",
        "\n",
        "def eval_model(model, X_test, Y_test):\n",
        "\n",
        "    #evaluate model with test data\n",
        "    test_loss, test_accuracy = model.evaluate(\n",
        "        x = X_test,\n",
        "        y = Y_test,\n",
        "        verbose = 2\n",
        "    )\n",
        "\n",
        "    return test_loss, test_accuracy\n",
        "\n"
      ],
      "metadata": {
        "id": "mUiu9iyKoJSp"
      },
      "execution_count": null,
      "outputs": []
    },
    {
      "cell_type": "code",
      "source": [
        "model = build_model()\n",
        "model = compile_model(model)\n",
        "model, history = train_model(model, X_train, Y_train, X_val, Y_val)\n",
        "test_loss, test_accuracy = eval_model(model, X_test, Y_test)"
      ],
      "metadata": {
        "id": "esjY_905rU0G",
        "colab": {
          "base_uri": "https://localhost:8080/"
        },
        "outputId": "e2f5594d-7f21-4596-ca13-456df0f052f2"
      },
      "execution_count": null,
      "outputs": [
        {
          "output_type": "stream",
          "name": "stdout",
          "text": [
            "Epoch 1/20\n",
            "39/39 - 7s - loss: 2.4029 - accuracy: 0.2054 - val_loss: 2.2659 - val_accuracy: 0.2743 - 7s/epoch - 180ms/step\n",
            "Epoch 2/20\n",
            "39/39 - 5s - loss: 1.7258 - accuracy: 0.4082 - val_loss: 1.9348 - val_accuracy: 0.3925 - 5s/epoch - 135ms/step\n",
            "Epoch 3/20\n",
            "39/39 - 5s - loss: 1.4771 - accuracy: 0.5005 - val_loss: 1.6534 - val_accuracy: 0.4919 - 5s/epoch - 135ms/step\n",
            "Epoch 4/20\n",
            "39/39 - 5s - loss: 1.2478 - accuracy: 0.5832 - val_loss: 1.4731 - val_accuracy: 0.5867 - 5s/epoch - 135ms/step\n",
            "Epoch 5/20\n",
            "39/39 - 5s - loss: 1.1238 - accuracy: 0.6323 - val_loss: 1.2938 - val_accuracy: 0.6334 - 5s/epoch - 134ms/step\n",
            "Epoch 6/20\n",
            "39/39 - 5s - loss: 1.0274 - accuracy: 0.6682 - val_loss: 1.2188 - val_accuracy: 0.5913 - 5s/epoch - 135ms/step\n",
            "Epoch 7/20\n",
            "39/39 - 5s - loss: 0.9360 - accuracy: 0.6992 - val_loss: 1.2630 - val_accuracy: 0.5979 - 5s/epoch - 135ms/step\n",
            "Epoch 8/20\n",
            "39/39 - 5s - loss: 0.8603 - accuracy: 0.7238 - val_loss: 0.9813 - val_accuracy: 0.6937 - 5s/epoch - 135ms/step\n",
            "Epoch 9/20\n",
            "39/39 - 5s - loss: 0.8340 - accuracy: 0.7313 - val_loss: 0.8899 - val_accuracy: 0.7257 - 5s/epoch - 135ms/step\n",
            "Epoch 10/20\n",
            "39/39 - 5s - loss: 0.7460 - accuracy: 0.7581 - val_loss: 0.7852 - val_accuracy: 0.7409 - 5s/epoch - 134ms/step\n",
            "Epoch 11/20\n",
            "39/39 - 5s - loss: 0.6719 - accuracy: 0.7830 - val_loss: 0.8077 - val_accuracy: 0.7394 - 5s/epoch - 134ms/step\n",
            "Epoch 12/20\n",
            "39/39 - 5s - loss: 0.6387 - accuracy: 0.7938 - val_loss: 0.7433 - val_accuracy: 0.7637 - 5s/epoch - 134ms/step\n",
            "Epoch 13/20\n",
            "39/39 - 5s - loss: 0.5917 - accuracy: 0.8094 - val_loss: 0.6875 - val_accuracy: 0.7804 - 5s/epoch - 135ms/step\n",
            "Epoch 14/20\n",
            "39/39 - 5s - loss: 0.5350 - accuracy: 0.8213 - val_loss: 0.6838 - val_accuracy: 0.7865 - 5s/epoch - 135ms/step\n",
            "Epoch 15/20\n",
            "39/39 - 5s - loss: 0.5378 - accuracy: 0.8240 - val_loss: 0.7599 - val_accuracy: 0.7688 - 5s/epoch - 135ms/step\n",
            "Epoch 16/20\n",
            "39/39 - 5s - loss: 0.4878 - accuracy: 0.8392 - val_loss: 0.6934 - val_accuracy: 0.7754 - 5s/epoch - 135ms/step\n",
            "Epoch 17/20\n",
            "39/39 - 5s - loss: 0.4704 - accuracy: 0.8461 - val_loss: 0.7189 - val_accuracy: 0.7840 - 5s/epoch - 134ms/step\n",
            "Epoch 18/20\n",
            "39/39 - 5s - loss: 0.4238 - accuracy: 0.8597 - val_loss: 0.6695 - val_accuracy: 0.7926 - 5s/epoch - 135ms/step\n",
            "Epoch 19/20\n",
            "39/39 - 5s - loss: 0.3889 - accuracy: 0.8718 - val_loss: 0.7711 - val_accuracy: 0.7774 - 5s/epoch - 135ms/step\n",
            "Epoch 20/20\n",
            "39/39 - 5s - loss: 0.3622 - accuracy: 0.8803 - val_loss: 0.7955 - val_accuracy: 0.7723 - 5s/epoch - 135ms/step\n",
            "93/93 - 1s - loss: 0.8935 - accuracy: 0.7597 - 1s/epoch - 12ms/step\n"
          ]
        }
      ]
    },
    {
      "cell_type": "code",
      "source": [
        "raw_Y.value_counts()"
      ],
      "metadata": {
        "id": "bZOi65_arX1j",
        "colab": {
          "base_uri": "https://localhost:8080/"
        },
        "outputId": "b451cfc3-f8c2-4012-96c7-08f10c639a58"
      },
      "execution_count": null,
      "outputs": [
        {
          "output_type": "execute_result",
          "data": {
            "text/plain": [
              "10    1744\n",
              "4     1120\n",
              "1      940\n",
              "0      894\n",
              "3      862\n",
              "8      719\n",
              "7      653\n",
              "12     646\n",
              "11     582\n",
              "6      547\n",
              "9      543\n",
              "2      533\n",
              "5      101\n",
              "Name: label, dtype: int64"
            ]
          },
          "metadata": {},
          "execution_count": 58
        }
      ]
    }
  ]
}