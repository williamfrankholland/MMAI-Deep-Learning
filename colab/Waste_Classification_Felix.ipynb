{
  "cells": [
    {
      "cell_type": "code",
      "execution_count": 1,
      "metadata": {
        "id": "nsziqhRh7lz-"
      },
      "outputs": [],
      "source": [
        "# library loading\n",
        "import pandas as pd\n",
        "import numpy as np\n",
        "import glob\n",
        "import PIL\n",
        "from PIL import Image\n",
        "\n",
        "from sklearn.datasets import fetch_openml\n",
        "from sklearn.model_selection import train_test_split\n",
        "from sklearn.preprocessing import MinMaxScaler\n",
        "\n",
        "import matplotlib.pyplot as plt\n",
        "\n",
        "import tensorflow as tf\n",
        "import tensorflow.keras as keras\n",
        "from tensorflow.keras.models import Sequential\n",
        "from tensorflow.keras.layers import Dense, Dropout, Conv3D, Flatten, MaxPooling2D, AveragePooling2D\n",
        "from tensorflow.keras.layers import Input, Conv2D, MaxPool2D\n",
        "from tensorflow.keras import Model"
      ]
    },
    {
      "cell_type": "code",
      "execution_count": 2,
      "metadata": {
        "colab": {
          "base_uri": "https://localhost:8080/"
        },
        "id": "B4hTWEQsG2kD",
        "outputId": "ac65dd4c-697a-4de3-e462-284db984de94",
        "scrolled": true
      },
      "outputs": [
        {
          "output_type": "stream",
          "name": "stdout",
          "text": [
            "Mounted at /content/gdrive\n"
          ]
        }
      ],
      "source": [
        "# colab drive connection\n",
        "from google.colab import drive\n",
        "drive.mount('/content/gdrive')"
      ]
    },
    {
      "cell_type": "code",
      "execution_count": 3,
      "metadata": {
        "id": "Mjszs7Ct8eVm"
      },
      "outputs": [],
      "source": [
        "# Image loading\n",
        "imdir = '/content/gdrive/MyDrive/data_clean/'\n",
        "image_classes = ['battery/','biological/','brown-glass/','cardboard_recycle/','cardboard_trash/','clothes_donate/','clothes_garbage/','green_glass_broken/','green_glass_recycle/','metal_recycle/','paper_recycle/','plastic_recycle/','shoes/','trash/','trash_toxic/','white-glass/','white-glass_broken/']\n",
        "\n",
        "df_list = []\n",
        "\n",
        "img_size = 224\n",
        "\n",
        "for i in range(len(image_classes)):\n",
        "    files = []\n",
        "    files.extend(glob.glob(imdir + image_classes[i] + '*.jpg'))\n",
        "    images = [np.asarray(Image.open(file).resize((img_size,img_size))) for file in files]\n",
        "    df_list.append(pd.DataFrame(pd.Series(images), columns=['tensor']))\n",
        "    \n",
        "# add label for every folder\n",
        "    df_list[i]['label'] = i"
      ]
    },
    {
      "cell_type": "code",
      "execution_count": 4,
      "metadata": {
        "id": "wUOpEnXZmFJ-"
      },
      "outputs": [],
      "source": [
        "# concatonate all image types into one dataframe\n",
        "df = pd.concat(df_list)"
      ]
    },
    {
      "cell_type": "code",
      "execution_count": 5,
      "metadata": {
        "id": "hjLHJkCfmUhY"
      },
      "outputs": [],
      "source": [
        "# reset indices after concatonation\n",
        "df = df.reset_index(drop=True)"
      ]
    },
    {
      "cell_type": "code",
      "execution_count": 6,
      "metadata": {
        "id": "OkN_jZARm6iT"
      },
      "outputs": [],
      "source": [
        "# import raw X and Y data from concatonated df\n",
        "raw_X = df['tensor']\n",
        "raw_Y = df['label']"
      ]
    },
    {
      "cell_type": "code",
      "execution_count": 7,
      "metadata": {
        "id": "boEBF0LPniX1"
      },
      "outputs": [],
      "source": [
        "# data cleaning and preprocessing\n",
        "def clean_data(raw_X, raw_Y):\n",
        "\n",
        "    cleaned_X = raw_X.to_list()\n",
        "    cleaned_Y = raw_Y.to_list()\n",
        "\n",
        "    #remove any images that don't contain shape (img_size, img_size, 3)\n",
        "    clean_list = []\n",
        "    for i in range(len(cleaned_X)):\n",
        "        if cleaned_X[i].shape != (img_size, img_size, 3):\n",
        "            clean_list.append(i)\n",
        "    \n",
        "    for i in sorted(clean_list, reverse=True):\n",
        "        cleaned_X.pop(i)\n",
        "        cleaned_Y.pop(i)\n",
        "    \n",
        "    #one hot encode labels\n",
        "    cleaned_Y = keras.utils.to_categorical(cleaned_Y)\n",
        "    cleaned_X = np.array(cleaned_X)\n",
        "    cleaned_Y = np.array(cleaned_Y)\n",
        "\n",
        "    return cleaned_X, cleaned_Y\n",
        "\n",
        "cleaned_X, cleaned_Y = clean_data(raw_X, raw_Y)"
      ]
    },
    {
      "cell_type": "code",
      "execution_count": 8,
      "metadata": {
        "id": "ek84oa1kvSJB"
      },
      "outputs": [],
      "source": [
        "# check for any images without shape (img_size, img_size, 3)\n",
        "for i in range(len(cleaned_X)):\n",
        "    if cleaned_X[i].shape != (img_size, img_size, 3):\n",
        "        print(cleaned_X[i].shape)\n",
        "        print(i)"
      ]
    },
    {
      "cell_type": "code",
      "execution_count": 9,
      "metadata": {
        "id": "Ikuj2x70oCtn"
      },
      "outputs": [],
      "source": [
        "# train, validation and test datasets split \n",
        "def split_data(cleaned_X, cleaned_Y):\n",
        "  \n",
        "    #split into 50% train, 30% validation, 20% test\n",
        "    X_train, X_valtest, Y_train, Y_valtest = train_test_split(cleaned_X, cleaned_Y, test_size=0.5, random_state=42)\n",
        "    X_val, X_test, Y_val, Y_test = train_test_split(X_valtest, Y_valtest, test_size=0.4, random_state=42)\n",
        "    \n",
        "    return X_val, X_test, X_train, Y_val, Y_test, Y_train\n",
        "\n",
        "X_val, X_test, X_train, Y_val, Y_test, Y_train = split_data(cleaned_X, cleaned_Y)"
      ]
    },
    {
      "cell_type": "code",
      "execution_count": 12,
      "metadata": {
        "id": "rNe4y28jSCk1"
      },
      "outputs": [],
      "source": [
        "# model define\n",
        "def build_model():\n",
        "    \n",
        "    model = keras.Sequential()\n",
        "    model.add(keras.Input(shape=(img_size,img_size,3)))\n",
        "    # VGG16 model \n",
        "    VGG16_MODEL=tf.keras.applications.VGG16(input_shape=(img_size,img_size,3),\n",
        "                                               include_top=False,\n",
        "                                               weights='imagenet')\n",
        "    VGG16_MODEL.trainable=False\n",
        "    model.add(VGG16_MODEL)\n",
        "    model.add(Flatten())\n",
        "    \n",
        "    #Fully connected: [512], with Dropout rate of 25%\n",
        "    model.add(Dense(1024, activation='relu'))\n",
        "    model.add(Dropout(0.25, seed=42))\n",
        "    \n",
        "    #Fully connected: [512], with Dropout rate of 25%\n",
        "    model.add(Dense(512, activation='relu'))\n",
        "    model.add(Dropout(0.25, seed=42))\n",
        "    #Fully connected: [256], with Dropout rate of 25%\n",
        "    model.add(Dense(256, activation='relu'))\n",
        "    model.add(Dropout(0.25, seed=42))\n",
        "    #Fully connected: [128], with Dropout rate of 25%\n",
        "    model.add(Dense(128, activation='relu'))\n",
        "    model.add(Dropout(0.25, seed=42)) \n",
        "    #Fully connected: [64], with Dropout rate of 25%\n",
        "    model.add(Dense(64, activation='relu'))\n",
        "    model.add(Dropout(0.25, seed=42))\n",
        "    #output layer for 17 classes, using softmax activation\n",
        "    model.add(Dense(17, activation='softmax'))\n",
        "\n",
        "    return model\n",
        "# model compile define\n",
        "def compile_model(model):\n",
        "\n",
        "    model.compile(\n",
        "       #use catgorical crossentropy loss\n",
        "       loss=keras.losses.categorical_crossentropy,\n",
        "\n",
        "       #use Adam gradient descent optimizer\n",
        "       optimizer=keras.optimizers.Adam(),\n",
        "       \n",
        "       #use accuracy as a metric\n",
        "       metrics=['accuracy']\n",
        "    )\n",
        "\n",
        "    return model\n",
        "# model fit define\n",
        "def train_model(model, X_train, Y_train, X_val, Y_val):\n",
        "\n",
        "    #fit model with train data\n",
        "    history = model.fit(\n",
        "        x = X_train,\n",
        "        y = Y_train,\n",
        "        \n",
        "        #use 128 batch size, 20 epochs\n",
        "        batch_size = 128,\n",
        "        epochs = 20,\n",
        "        \n",
        "        #verbose training, including validation data\n",
        "        verbose = 2,\n",
        "        validation_data = (X_val, Y_val)\n",
        "    )\n",
        "    return model, history\n",
        "\n",
        "\n",
        "def eval_model(model, X_test, Y_test):\n",
        "\n",
        "    #evaluate model with test data\n",
        "    test_loss, test_accuracy = model.evaluate(\n",
        "        x = X_test,\n",
        "        y = Y_test,\n",
        "        verbose = 2\n",
        "    )\n",
        "\n",
        "    return test_loss, test_accuracy"
      ]
    },
    {
      "cell_type": "code",
      "execution_count": 13,
      "metadata": {
        "colab": {
          "base_uri": "https://localhost:8080/"
        },
        "id": "esjY_905rU0G",
        "outputId": "b4626b96-560c-41fa-90ce-8319163883ea"
      },
      "outputs": [
        {
          "output_type": "stream",
          "name": "stdout",
          "text": [
            "Epoch 1/20\n",
            "40/40 - 42s - loss: 5.8442 - accuracy: 0.2122 - val_loss: 1.7154 - val_accuracy: 0.5436 - 42s/epoch - 1s/step\n",
            "Epoch 2/20\n",
            "40/40 - 36s - loss: 2.2374 - accuracy: 0.4059 - val_loss: 1.4624 - val_accuracy: 0.6176 - 36s/epoch - 897ms/step\n",
            "Epoch 3/20\n",
            "40/40 - 36s - loss: 1.7078 - accuracy: 0.5068 - val_loss: 1.1874 - val_accuracy: 0.6749 - 36s/epoch - 906ms/step\n",
            "Epoch 4/20\n",
            "40/40 - 36s - loss: 1.4526 - accuracy: 0.5767 - val_loss: 1.0675 - val_accuracy: 0.7055 - 36s/epoch - 911ms/step\n",
            "Epoch 5/20\n",
            "40/40 - 37s - loss: 1.2748 - accuracy: 0.6299 - val_loss: 0.8955 - val_accuracy: 0.7578 - 37s/epoch - 917ms/step\n",
            "Epoch 6/20\n",
            "40/40 - 37s - loss: 1.1191 - accuracy: 0.6673 - val_loss: 0.8855 - val_accuracy: 0.7818 - 37s/epoch - 921ms/step\n",
            "Epoch 7/20\n",
            "40/40 - 37s - loss: 0.9241 - accuracy: 0.7324 - val_loss: 0.8340 - val_accuracy: 0.7991 - 37s/epoch - 923ms/step\n",
            "Epoch 8/20\n",
            "40/40 - 37s - loss: 0.8232 - accuracy: 0.7542 - val_loss: 0.6588 - val_accuracy: 0.8334 - 37s/epoch - 928ms/step\n",
            "Epoch 9/20\n",
            "40/40 - 37s - loss: 0.6681 - accuracy: 0.8034 - val_loss: 0.6910 - val_accuracy: 0.8418 - 37s/epoch - 930ms/step\n",
            "Epoch 10/20\n",
            "40/40 - 37s - loss: 0.6016 - accuracy: 0.8275 - val_loss: 0.6715 - val_accuracy: 0.8548 - 37s/epoch - 933ms/step\n",
            "Epoch 11/20\n",
            "40/40 - 37s - loss: 0.5843 - accuracy: 0.8325 - val_loss: 0.6729 - val_accuracy: 0.8461 - 37s/epoch - 934ms/step\n",
            "Epoch 12/20\n",
            "40/40 - 37s - loss: 0.4687 - accuracy: 0.8625 - val_loss: 0.6921 - val_accuracy: 0.8541 - 37s/epoch - 935ms/step\n",
            "Epoch 13/20\n",
            "40/40 - 37s - loss: 0.4419 - accuracy: 0.8727 - val_loss: 0.6942 - val_accuracy: 0.8571 - 37s/epoch - 935ms/step\n",
            "Epoch 14/20\n",
            "40/40 - 37s - loss: 0.3879 - accuracy: 0.8967 - val_loss: 0.6164 - val_accuracy: 0.8734 - 37s/epoch - 936ms/step\n",
            "Epoch 15/20\n",
            "40/40 - 37s - loss: 0.3388 - accuracy: 0.9157 - val_loss: 0.6541 - val_accuracy: 0.8728 - 37s/epoch - 936ms/step\n",
            "Epoch 16/20\n",
            "40/40 - 37s - loss: 0.2847 - accuracy: 0.9261 - val_loss: 0.6138 - val_accuracy: 0.8844 - 37s/epoch - 936ms/step\n",
            "Epoch 17/20\n",
            "40/40 - 37s - loss: 0.2503 - accuracy: 0.9341 - val_loss: 0.6809 - val_accuracy: 0.8781 - 37s/epoch - 937ms/step\n",
            "Epoch 18/20\n",
            "40/40 - 37s - loss: 0.2128 - accuracy: 0.9442 - val_loss: 0.7651 - val_accuracy: 0.8847 - 37s/epoch - 936ms/step\n",
            "Epoch 19/20\n",
            "40/40 - 37s - loss: 0.2145 - accuracy: 0.9496 - val_loss: 0.8041 - val_accuracy: 0.8794 - 37s/epoch - 936ms/step\n",
            "Epoch 20/20\n",
            "40/40 - 37s - loss: 0.1652 - accuracy: 0.9566 - val_loss: 0.7137 - val_accuracy: 0.8877 - 37s/epoch - 936ms/step\n",
            "63/63 - 14s - loss: 0.6913 - accuracy: 0.8881 - 14s/epoch - 216ms/step\n"
          ]
        }
      ],
      "source": [
        "model = build_model()\n",
        "model = compile_model(model)\n",
        "model, history = train_model(model, X_train, Y_train, X_val, Y_val)\n",
        "test_loss, test_accuracy = eval_model(model, X_test, Y_test)"
      ]
    },
    {
      "cell_type": "code",
      "execution_count": 15,
      "metadata": {
        "id": "gHL_739ySCk5"
      },
      "outputs": [],
      "source": [
        "\n",
        "from tensorflow.keras.backend import argmax\n",
        "\n",
        "#to create confusion matrix, argmax predictions + test labels\n",
        "Y_pred_class = argmax(model.predict(X_test))\n",
        "Y_test_class = argmax(Y_test)"
      ]
    },
    {
      "cell_type": "code",
      "execution_count": 16,
      "metadata": {
        "id": "bZOi65_arX1j"
      },
      "outputs": [],
      "source": [
        "# import libraries for EDA\n",
        "\n",
        "import seaborn as sb\n",
        "import matplotlib.pyplot as plt\n",
        "import matplotlib.image as mpimg\n",
        "\n",
        "# Setting default fig size\n",
        "size_ = (10,8)"
      ]
    },
    {
      "cell_type": "code",
      "source": [
        "# confusion matrix plot\n",
        "from sklearn.metrics import confusion_matrix\n",
        "\n",
        "cm=confusion_matrix(Y_test_class,Y_pred_class)\n",
        "df_cm = pd.DataFrame(cm, range(cm.shape[0]), range(cm.shape[1]))\n",
        "df_cm.columns = ['battery','biological','brown-glass','cardboard_recycle','clothes_donate','clothes_garbage','green_glass_broken','green_glass_recycle','metal_recycle','paper_recycle','plastic_recycle','shoes','trash','trash_toxic','white-glass','white-glass_broken']\n",
        "df_cm.index = ['battery','biological','brown-glass','cardboard_recycle','clothes_donate','clothes_garbage','green_glass_broken','green_glass_recycle','metal_recycle','paper_recycle','plastic_recycle','shoes','trash','trash_toxic','white-glass','white-glass_broken']\n",
        "\n",
        "fig = plt.subplots(figsize=size_)\n",
        "sb.set(font_scale=1)\n",
        "sb.heatmap(df_cm, annot=True, annot_kws={\"size\": 10}, cmap=\"Blues\") # font size\n",
        "plt.show()"
      ],
      "metadata": {
        "colab": {
          "base_uri": "https://localhost:8080/",
          "height": 573
        },
        "id": "MbuheATjdIo1",
        "outputId": "1fa434ea-4afe-42cd-a755-92d2f2602386"
      },
      "execution_count": 17,
      "outputs": [
        {
          "output_type": "display_data",
          "data": {
            "text/plain": [
              "<Figure size 720x576 with 2 Axes>"
            ],
            "image/png": "[encoded data removed]"
          },
          "metadata": {
            "needs_background": "light"
          }
        }
      ]
    },
    {
      "cell_type": "code",
      "source": [
        "# classification scores\n",
        "from sklearn.metrics import classification_report\n",
        "\n",
        "print(classification_report(Y_test_class,Y_pred_class))"
      ],
      "metadata": {
        "colab": {
          "base_uri": "https://localhost:8080/"
        },
        "id": "7oCLAe9GwTd8",
        "outputId": "26b1ca47-2800-4e0b-cc83-94b0cb17c206"
      },
      "execution_count": 18,
      "outputs": [
        {
          "output_type": "stream",
          "name": "stdout",
          "text": [
            "              precision    recall  f1-score   support\n",
            "\n",
            "           0       0.95      0.94      0.94       187\n",
            "           1       0.94      0.95      0.94       178\n",
            "           2       0.80      0.86      0.83       105\n",
            "           3       0.91      0.88      0.89       184\n",
            "           5       0.87      0.98      0.92       236\n",
            "           6       0.00      0.00      0.00        21\n",
            "           7       0.00      0.00      0.00         5\n",
            "           8       0.86      0.85      0.85       100\n",
            "           9       0.82      0.83      0.82       127\n",
            "          10       0.83      0.86      0.85       131\n",
            "          11       0.71      0.69      0.70       104\n",
            "          12       0.98      0.96      0.97       340\n",
            "          13       0.96      0.90      0.93       128\n",
            "          14       0.70      0.93      0.80        15\n",
            "          15       0.84      0.85      0.85       137\n",
            "          16       0.00      0.00      0.00         4\n",
            "\n",
            "    accuracy                           0.89      2002\n",
            "   macro avg       0.70      0.72      0.71      2002\n",
            "weighted avg       0.88      0.89      0.88      2002\n",
            "\n"
          ]
        },
        {
          "output_type": "stream",
          "name": "stderr",
          "text": [
            "/usr/local/lib/python3.7/dist-packages/sklearn/metrics/_classification.py:1318: UndefinedMetricWarning: Precision and F-score are ill-defined and being set to 0.0 in labels with no predicted samples. Use `zero_division` parameter to control this behavior.\n",
            "  _warn_prf(average, modifier, msg_start, len(result))\n",
            "/usr/local/lib/python3.7/dist-packages/sklearn/metrics/_classification.py:1318: UndefinedMetricWarning: Precision and F-score are ill-defined and being set to 0.0 in labels with no predicted samples. Use `zero_division` parameter to control this behavior.\n",
            "  _warn_prf(average, modifier, msg_start, len(result))\n",
            "/usr/local/lib/python3.7/dist-packages/sklearn/metrics/_classification.py:1318: UndefinedMetricWarning: Precision and F-score are ill-defined and being set to 0.0 in labels with no predicted samples. Use `zero_division` parameter to control this behavior.\n",
            "  _warn_prf(average, modifier, msg_start, len(result))\n"
          ]
        }
      ]
    },
    {
      "cell_type": "code",
      "source": [
        "# bin label\n",
        "def waste_classify(labels):\n",
        "  y = np.copy(labels)\n",
        "  waste_index = [3, 0, 1, 1, 2, 4, 2, 2, 1, 1, 1, 1, 4, 2, 3, 1, 2]\n",
        "  for i in range(17):\n",
        "    y = np.where(y == i, waste_index[i], y)\n",
        "  return y"
      ],
      "metadata": {
        "id": "8khqPd-Zwt7c"
      },
      "execution_count": 19,
      "outputs": []
    },
    {
      "cell_type": "code",
      "source": [
        "Y_waste_class_pred = waste_classify(Y_pred_class)\n",
        "Y_waste_class_test = waste_classify(Y_test_class)"
      ],
      "metadata": {
        "id": "DXdUeZeNwvKr"
      },
      "execution_count": 20,
      "outputs": []
    },
    {
      "cell_type": "code",
      "source": [
        "# confusion matrix for bin label\n",
        "cm=confusion_matrix(Y_waste_class_test,Y_waste_class_pred)\n",
        "df_cm = pd.DataFrame(cm, range(cm.shape[0]), range(cm.shape[1]))\n",
        "df_cm.columns = ['green bin','blue bin','black bin','hazardous waste','donate']\n",
        "df_cm.index = ['green bin','blue bin','black bin','hazardous waste','donate']\n",
        "\n",
        "fig = plt.subplots(figsize=size_)\n",
        "sb.set(font_scale=1)\n",
        "sb.heatmap(df_cm, annot=True, annot_kws={\"size\": 10}, cmap=\"Blues\") # font size\n",
        "plt.show()"
      ],
      "metadata": {
        "colab": {
          "base_uri": "https://localhost:8080/",
          "height": 485
        },
        "id": "PZ91_FSuwxqQ",
        "outputId": "7706fa92-117c-4dec-b4f1-2b98086d49d7"
      },
      "execution_count": 21,
      "outputs": [
        {
          "output_type": "display_data",
          "data": {
            "text/plain": [
              "<Figure size 720x576 with 2 Axes>"
            ],
            "image/png": "[encoded data removed]"
          },
          "metadata": {}
        }
      ]
    },
    {
      "cell_type": "code",
      "source": [
        "# classification score for bin label\n",
        "print(classification_report(Y_waste_class_test,Y_waste_class_pred))"
      ],
      "metadata": {
        "colab": {
          "base_uri": "https://localhost:8080/"
        },
        "id": "g5VX05dtw3E_",
        "outputId": "d27081c8-0b80-4da6-a26d-0deac3658465"
      },
      "execution_count": 22,
      "outputs": [
        {
          "output_type": "stream",
          "name": "stdout",
          "text": [
            "              precision    recall  f1-score   support\n",
            "\n",
            "           0       0.94      0.95      0.94       178\n",
            "           1       0.98      0.98      0.98      1075\n",
            "           2       0.95      0.73      0.82       158\n",
            "           3       0.70      0.93      0.80        15\n",
            "           4       0.94      0.98      0.96       576\n",
            "\n",
            "    accuracy                           0.96      2002\n",
            "   macro avg       0.90      0.91      0.90      2002\n",
            "weighted avg       0.96      0.96      0.96      2002\n",
            "\n"
          ]
        }
      ]
    },
    {
      "cell_type": "code",
      "source": [
        "# recycle label\n",
        "def recycle_classify(labels):\n",
        "  y = np.copy(labels)\n",
        "  waste_index = [0,1,0,0,0]\n",
        "  for i in range(5):\n",
        "    y = np.where(y == i, waste_index[i], y)\n",
        "  return y"
      ],
      "metadata": {
        "id": "kF0SdkBZw4J0"
      },
      "execution_count": 23,
      "outputs": []
    },
    {
      "cell_type": "code",
      "source": [
        "Y_recycle_class_pred = recycle_classify(Y_waste_class_pred)\n",
        "Y_recycle_class_test = recycle_classify(Y_waste_class_test)"
      ],
      "metadata": {
        "id": "QP_unfZmw8Yk"
      },
      "execution_count": 24,
      "outputs": []
    },
    {
      "cell_type": "code",
      "source": [
        "# confusion matrix for recycle label \n",
        "cm=confusion_matrix(Y_recycle_class_test,Y_recycle_class_pred)\n",
        "df_cm = pd.DataFrame(cm, range(cm.shape[0]), range(cm.shape[1]))\n",
        "df_cm.columns = ['non-recyclable','recyclable']\n",
        "df_cm.index = ['non-recyclable','recyclable']\n",
        "\n",
        "fig = plt.subplots(figsize=size_)\n",
        "sb.set(font_scale=1)\n",
        "sb.heatmap(df_cm, annot=True, annot_kws={\"size\": 10}, cmap=\"Blues\") # font size\n",
        "plt.show()"
      ],
      "metadata": {
        "id": "c4X-Ae6gw_RF",
        "outputId": "382aecbb-84c6-48de-9dc6-417287dbba07",
        "colab": {
          "base_uri": "https://localhost:8080/",
          "height": 485
        }
      },
      "execution_count": 25,
      "outputs": [
        {
          "output_type": "display_data",
          "data": {
            "text/plain": [
              "<Figure size 720x576 with 2 Axes>"
            ],
            "image/png": "[encoded data removed]"
          },
          "metadata": {}
        }
      ]
    },
    {
      "cell_type": "code",
      "source": [
        "# classification matrix for cycle label\n",
        "print(classification_report(Y_recycle_class_test,Y_recycle_class_pred))"
      ],
      "metadata": {
        "id": "27emy6n0xBRl",
        "outputId": "01804a75-c070-40b3-afca-c37fd1d76cb4",
        "colab": {
          "base_uri": "https://localhost:8080/"
        }
      },
      "execution_count": 27,
      "outputs": [
        {
          "output_type": "stream",
          "name": "stdout",
          "text": [
            "              precision    recall  f1-score   support\n",
            "\n",
            "           0       0.98      0.97      0.98       927\n",
            "           1       0.98      0.98      0.98      1075\n",
            "\n",
            "    accuracy                           0.98      2002\n",
            "   macro avg       0.98      0.98      0.98      2002\n",
            "weighted avg       0.98      0.98      0.98      2002\n",
            "\n"
          ]
        }
      ]
    }
  ],
  "metadata": {
    "accelerator": "GPU",
    "colab": {
      "collapsed_sections": [],
      "machine_shape": "hm",
      "name": "Waste_Classification_Felix.ipynb",
      "provenance": []
    },
    "kernelspec": {
      "display_name": "Python 3 (ipykernel)",
      "language": "python",
      "name": "python3"
    },
    "language_info": {
      "codemirror_mode": {
        "name": "ipython",
        "version": 3
      },
      "file_extension": ".py",
      "mimetype": "text/x-python",
      "name": "python",
      "nbconvert_exporter": "python",
      "pygments_lexer": "ipython3",
      "version": "3.8.12"
    }
  },
  "nbformat": 4,
  "nbformat_minor": 0
}